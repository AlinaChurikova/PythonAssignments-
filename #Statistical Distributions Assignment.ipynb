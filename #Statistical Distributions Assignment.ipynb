{
 "cells": [
  {
   "cell_type": "markdown",
   "id": "67627997",
   "metadata": {},
   "source": [
    "1- By using distribution=np.random.name_distribution([],[]), write the name of distribution of your choice in place of name_distributionand fill out the bracket with your choice again."
   ]
  },
  {
   "cell_type": "code",
   "execution_count": 3,
   "id": "d9118876",
   "metadata": {},
   "outputs": [],
   "source": [
    "import numpy as np"
   ]
  },
  {
   "cell_type": "code",
   "execution_count": 4,
   "id": "901c7e3c",
   "metadata": {},
   "outputs": [],
   "source": [
    "my_distribution = np.random.normal(0, 1, 100000)"
   ]
  },
  {
   "cell_type": "markdown",
   "id": "1092bd50",
   "metadata": {},
   "source": [
    " Then please, a) Draw the histogram and interpret "
   ]
  },
  {
   "cell_type": "code",
   "execution_count": 5,
   "id": "04fa5e00",
   "metadata": {},
   "outputs": [
    {
     "data": {
      "image/png": "[encoded data removed]",
      "text/plain": [
       "<Figure size 432x288 with 1 Axes>"
      ]
     },
     "metadata": {
      "needs_background": "light"
     },
     "output_type": "display_data"
    }
   ],
   "source": [
    "import matplotlib.pyplot as plt\n",
    "plt.hist(my_distribution, 30, density=True)\n",
    "plt.show()"
   ]
  },
  {
   "cell_type": "markdown",
   "id": "0519dc6c",
   "metadata": {},
   "source": [
    "We observe that the data shows symmetric distribution and most frequent observations gather around mean. \n",
    "Mean = 0, \n",
    "Std = 1."
   ]
  },
  {
   "cell_type": "code",
   "execution_count": 6,
   "id": "23415052",
   "metadata": {},
   "outputs": [
    {
     "data": {
      "text/plain": [
       "0.0026563329808348686"
      ]
     },
     "execution_count": 6,
     "metadata": {},
     "output_type": "execute_result"
    }
   ],
   "source": [
    "my_distribution.mean()"
   ]
  },
  {
   "cell_type": "code",
   "execution_count": 7,
   "id": "2c4638f6",
   "metadata": {},
   "outputs": [
    {
     "name": "stdout",
     "output_type": "stream",
     "text": [
      "1.002600312553687\n"
     ]
    }
   ],
   "source": [
    "print(np.std(my_distribution))"
   ]
  },
  {
   "cell_type": "markdown",
   "id": "676589b5",
   "metadata": {},
   "source": [
    "b) Draw Q-Q plot and interpret"
   ]
  },
  {
   "cell_type": "code",
   "execution_count": 8,
   "id": "ddcbec99",
   "metadata": {},
   "outputs": [],
   "source": [
    "from statsmodels.graphics.gofplots import qqplot"
   ]
  },
  {
   "cell_type": "code",
   "execution_count": 9,
   "id": "be734af9",
   "metadata": {},
   "outputs": [],
   "source": [
    "import pylab as py"
   ]
  },
  {
   "cell_type": "code",
   "execution_count": 10,
   "id": "c57a32c9",
   "metadata": {},
   "outputs": [
    {
     "data": {
      "text/plain": [
       "<Figure size 720x360 with 0 Axes>"
      ]
     },
     "metadata": {},
     "output_type": "display_data"
    },
    {
     "data": {
      "image/png": "[encoded data removed]",
      "text/plain": [
       "<Figure size 432x288 with 1 Axes>"
      ]
     },
     "metadata": {
      "needs_background": "light"
     },
     "output_type": "display_data"
    }
   ],
   "source": [
    "plt.figure(figsize=(10,5))\n",
    "qqplot(my_distribution, line ='45')\n",
    "plt.title('QQ Plot')\n",
    "py.show()"
   ]
  },
  {
   "cell_type": "markdown",
   "id": "e0c2f09d",
   "metadata": {},
   "source": [
    "The blue points moving too closely to the 45 degree line, which is nice because it tells us that our data follows normal distribution."
   ]
  },
  {
   "cell_type": "markdown",
   "id": "5243eefe",
   "metadata": {},
   "source": [
    "2- In this question, you test whether the central limit theorem works. You generate 1000 variables with two normal distributions. You can determine the mean and standard deviation of these variables yourself. All you have to do is generate the first variable 50 times and averaged it each time. Generate the second variable 1000 times and averages this variable each time. Then plot the histogram of the averages of the two variables. Which of the variables has a mean distribution closer to the normal distribution? Do you think the Central Limit Theorem seems to have worked?"
   ]
  },
  {
   "cell_type": "code",
   "execution_count": 17,
   "id": "a58a3327",
   "metadata": {},
   "outputs": [],
   "source": [
    "from numpy.random import seed\n",
    "from numpy.random import randint\n",
    "from numpy import mean\n",
    "from matplotlib import pyplot"
   ]
  },
  {
   "cell_type": "code",
   "execution_count": 13,
   "id": "9f72234e",
   "metadata": {},
   "outputs": [],
   "source": [
    "distr1 = np.random.normal(1, 2, 1000)\n",
    "distr2 = np.random.normal(2, 3, 1000)"
   ]
  },
  {
   "cell_type": "code",
   "execution_count": 27,
   "id": "d9e50906",
   "metadata": {},
   "outputs": [],
   "source": [
    "means1 = [mean(np.random.normal(1, 2, 1000)) for _ in range(50)]  #generatinf 50 ties the first variable"
   ]
  },
  {
   "cell_type": "code",
   "execution_count": 26,
   "id": "10e9a551",
   "metadata": {},
   "outputs": [
    {
     "data": {
      "image/png": "[encoded data removed]",
      "text/plain": [
       "<Figure size 432x288 with 1 Axes>"
      ]
     },
     "metadata": {
      "needs_background": "light"
     },
     "output_type": "display_data"
    }
   ],
   "source": [
    "pyplot.hist(means1)\n",
    "pyplot.show()"
   ]
  },
  {
   "cell_type": "code",
   "execution_count": 28,
   "id": "a2eefb11",
   "metadata": {},
   "outputs": [],
   "source": [
    "means2 = [mean(np.random.normal(2, 3, 1000)) for _ in range(1000)]  #generatinf 100 ties the second variable"
   ]
  },
  {
   "cell_type": "code",
   "execution_count": 29,
   "id": "9ca4c209",
   "metadata": {},
   "outputs": [
    {
     "data": {
      "image/png": "[encoded data removed]",
      "text/plain": [
       "<Figure size 432x288 with 1 Axes>"
      ]
     },
     "metadata": {
      "needs_background": "light"
     },
     "output_type": "display_data"
    }
   ],
   "source": [
    "pyplot.hist(means2)\n",
    "pyplot.show()"
   ]
  },
  {
   "cell_type": "code",
   "execution_count": 30,
   "id": "bc16f99e",
   "metadata": {},
   "outputs": [
    {
     "data": {
      "image/png": "[encoded data removed]",
      "text/plain": [
       "<Figure size 720x504 with 1 Axes>"
      ]
     },
     "metadata": {
      "needs_background": "light"
     },
     "output_type": "display_data"
    }
   ],
   "source": [
    "import matplotlib.pyplot as plt\n",
    "import numpy as np\n",
    "\n",
    "fig = plt.figure(figsize =(10, 7))\n",
    "data = [means1, means2]\n",
    " \n",
    "# Creating axes instance\n",
    "ax = fig.add_axes([0, 0, 1, 1])\n",
    " \n",
    "# Creating plot\n",
    "bp = ax.boxplot(data)\n",
    " \n",
    "# show plot\n",
    "plt.show()"
   ]
  },
  {
   "cell_type": "markdown",
   "id": "8283f772",
   "metadata": {},
   "source": [
    "It seems that second variable is closer to the normal distribution."
   ]
  }
 ],
 "metadata": {
  "kernelspec": {
   "display_name": "Python 3 (ipykernel)",
   "language": "python",
   "name": "python3"
  },
  "language_info": {
   "codemirror_mode": {
    "name": "ipython",
    "version": 3
   },
   "file_extension": ".py",
   "mimetype": "text/x-python",
   "name": "python",
   "nbconvert_exporter": "python",
   "pygments_lexer": "ipython3",
   "version": "3.9.7"
  },
  "toc": {
   "base_numbering": 1,
   "nav_menu": {},
   "number_sections": true,
   "sideBar": true,
   "skip_h1_title": false,
   "title_cell": "Table of Contents",
   "title_sidebar": "Contents",
   "toc_cell": false,
   "toc_position": {},
   "toc_section_display": true,
   "toc_window_display": false
  }
 },
 "nbformat": 4,
 "nbformat_minor": 5
}
