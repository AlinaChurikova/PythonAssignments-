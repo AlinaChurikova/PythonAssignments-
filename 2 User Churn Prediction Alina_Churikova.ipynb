{
 "cells": [
  {
   "cell_type": "markdown",
   "id": "b90ed878",
   "metadata": {},
   "source": [
    "## User Churn Prediction"
   ]
  },
  {
   "cell_type": "markdown",
   "id": "45add733",
   "metadata": {},
   "source": [
    "The task: In this project, using supervised learning models, you will identify cell phone service customers who are more likely to stop using the service in the future and create a model that can predict if a certain customer will drop the service. Furthermore, it would be enlightening to analyze the top factors that influence user retention to help the company prevent user churn. The dataset contains information of customers' plans and usage of the service, as well as whether or not they stopped using the service eventually."
   ]
  },
  {
   "cell_type": "markdown",
   "id": "df33c49e",
   "metadata": {},
   "source": [
    "### Step 1: Import relevant libraries:"
   ]
  },
  {
   "cell_type": "code",
   "execution_count": 2,
   "id": "cb8d4925",
   "metadata": {},
   "outputs": [],
   "source": [
    "#Standard libraries for data analysis:\n",
    "    \n",
    "import numpy as np\n",
    "import matplotlib.pyplot as plt\n",
    "import pandas as pd\n",
    "from scipy.stats import norm, skew\n",
    "from scipy import stats\n",
    "import statsmodels.api as sm"
   ]
  },
  {
   "cell_type": "code",
   "execution_count": 4,
   "id": "08e18d19",
   "metadata": {},
   "outputs": [],
   "source": [
    "# sklearn modules for data preprocessing:\n",
    "from sklearn.impute import SimpleImputer\n",
    "from sklearn.preprocessing import LabelEncoder, OneHotEncoder\n",
    "from sklearn.compose import ColumnTransformer\n",
    "from sklearn.preprocessing import OneHotEncoder\n",
    "from sklearn.model_selection import train_test_split\n",
    "from sklearn.preprocessing import StandardScaler"
   ]
  },
  {
   "cell_type": "code",
   "execution_count": 5,
   "id": "d6ae7511",
   "metadata": {},
   "outputs": [],
   "source": [
    "#sklearn modules for Model Selection:\n",
    "from sklearn import svm, tree, linear_model, neighbors\n",
    "from sklearn import naive_bayes, ensemble, discriminant_analysis, gaussian_process\n",
    "from sklearn.neighbors import KNeighborsClassifier\n",
    "from sklearn.discriminant_analysis import LinearDiscriminantAnalysis\n",
    "from sklearn.linear_model import LogisticRegression\n",
    "from sklearn.svm import SVC\n",
    "from sklearn.neighbors import KNeighborsClassifier\n",
    "from sklearn.naive_bayes import GaussianNB\n",
    "from sklearn.tree import DecisionTreeClassifier\n",
    "from sklearn.ensemble import RandomForestClassifier"
   ]
  },
  {
   "cell_type": "code",
   "execution_count": 6,
   "id": "1db708f3",
   "metadata": {},
   "outputs": [],
   "source": [
    "#sklearn modules for Model Evaluation & Improvement:\n",
    "    \n",
    "from sklearn.metrics import confusion_matrix, accuracy_score \n",
    "from sklearn.metrics import f1_score, precision_score, recall_score, fbeta_score\n",
    "from statsmodels.stats.outliers_influence import variance_inflation_factor\n",
    "from sklearn.model_selection import cross_val_score\n",
    "from sklearn.model_selection import GridSearchCV\n",
    "from sklearn.model_selection import ShuffleSplit\n",
    "from sklearn.model_selection import KFold\n",
    "from sklearn import feature_selection\n",
    "from sklearn import model_selection\n",
    "from sklearn import metrics\n",
    "from sklearn.metrics import classification_report, precision_recall_curve\n",
    "from sklearn.metrics import auc, roc_auc_score, roc_curve\n",
    "from sklearn.metrics import make_scorer, recall_score, log_loss\n",
    "from sklearn.metrics import average_precision_score"
   ]
  },
  {
   "cell_type": "code",
   "execution_count": 7,
   "id": "498f1d78",
   "metadata": {},
   "outputs": [],
   "source": [
    "#Standard libraries for data visualization:\n",
    "import seaborn as sn\n",
    "from matplotlib import pyplot\n",
    "import matplotlib.pyplot as plt\n",
    "import matplotlib.pylab as pylab\n",
    "import matplotlib \n",
    "%matplotlib inline\n",
    "color = sn.color_palette()\n",
    "import matplotlib.ticker as mtick\n",
    "from IPython.display import display\n",
    "pd.options.display.max_columns = None\n",
    "from pandas.plotting import scatter_matrix\n",
    "from sklearn.metrics import roc_curve"
   ]
  },
  {
   "cell_type": "code",
   "execution_count": 8,
   "id": "41949e4f",
   "metadata": {},
   "outputs": [],
   "source": [
    "#Miscellaneous Utilitiy Libraries:\n",
    "    \n",
    "import random\n",
    "import os\n",
    "import re\n",
    "import sys\n",
    "import timeit\n",
    "import string\n",
    "import time\n",
    "from datetime import datetime\n",
    "from time import time\n",
    "from dateutil.parser import parse\n",
    "import joblib"
   ]
  },
  {
   "cell_type": "markdown",
   "id": "b3232dd3",
   "metadata": {},
   "source": [
    "### Step 2: Import the dataset:"
   ]
  },
  {
   "cell_type": "code",
   "execution_count": 9,
   "id": "b0942306",
   "metadata": {},
   "outputs": [],
   "source": [
    "#import requests\n",
    "\n",
    "#link = 'https://drive.google.com/file/d/1Ka-vsJ-axWLg8_JjAZSpnniWm7BGnj0o/view?usp=sharing'\n",
    "#dataset = requests.get(link)\n",
    "\n",
    "df = pd.read_csv('churn.all2')"
   ]
  },
  {
   "cell_type": "markdown",
   "id": "d525d3b7",
   "metadata": {},
   "source": [
    "### Step 3: Evaluate data structure with head & column methods:"
   ]
  },
  {
   "cell_type": "code",
   "execution_count": 10,
   "id": "ac21f63b",
   "metadata": {},
   "outputs": [
    {
     "data": {
      "text/html": [
       "<div>\n",
       "<style scoped>\n",
       "    .dataframe tbody tr th:only-of-type {\n",
       "        vertical-align: middle;\n",
       "    }\n",
       "\n",
       "    .dataframe tbody tr th {\n",
       "        vertical-align: top;\n",
       "    }\n",
       "\n",
       "    .dataframe thead th {\n",
       "        text-align: right;\n",
       "    }\n",
       "</style>\n",
       "<table border=\"1\" class=\"dataframe\">\n",
       "  <thead>\n",
       "    <tr style=\"text-align: right;\">\n",
       "      <th></th>\n",
       "      <th>state</th>\n",
       "      <th>account_length</th>\n",
       "      <th>area_code</th>\n",
       "      <th>phone_number</th>\n",
       "      <th>intl_plan</th>\n",
       "      <th>voice_mail_plan</th>\n",
       "      <th>number_vmail_messages</th>\n",
       "      <th>total_day_minutes</th>\n",
       "      <th>total_day_calls</th>\n",
       "      <th>total_day_charge</th>\n",
       "      <th>total_eve_minutes</th>\n",
       "      <th>total_eve_calls</th>\n",
       "      <th>total_eve_charge</th>\n",
       "      <th>total_night_minutes</th>\n",
       "      <th>total_night_calls</th>\n",
       "      <th>total_night_charge</th>\n",
       "      <th>total_intl_minutes</th>\n",
       "      <th>total_intl_calls</th>\n",
       "      <th>total_intl_charge</th>\n",
       "      <th>number_customer_service_calls</th>\n",
       "      <th>churned</th>\n",
       "    </tr>\n",
       "  </thead>\n",
       "  <tbody>\n",
       "    <tr>\n",
       "      <th>0</th>\n",
       "      <td>KS</td>\n",
       "      <td>128</td>\n",
       "      <td>415</td>\n",
       "      <td>382-4657</td>\n",
       "      <td>no</td>\n",
       "      <td>yes</td>\n",
       "      <td>25</td>\n",
       "      <td>265.1</td>\n",
       "      <td>110</td>\n",
       "      <td>45.07</td>\n",
       "      <td>197.4</td>\n",
       "      <td>99</td>\n",
       "      <td>16.78</td>\n",
       "      <td>244.7</td>\n",
       "      <td>91</td>\n",
       "      <td>11.01</td>\n",
       "      <td>10.0</td>\n",
       "      <td>3</td>\n",
       "      <td>2.70</td>\n",
       "      <td>1</td>\n",
       "      <td>False.</td>\n",
       "    </tr>\n",
       "    <tr>\n",
       "      <th>1</th>\n",
       "      <td>OH</td>\n",
       "      <td>107</td>\n",
       "      <td>415</td>\n",
       "      <td>371-7191</td>\n",
       "      <td>no</td>\n",
       "      <td>yes</td>\n",
       "      <td>26</td>\n",
       "      <td>161.6</td>\n",
       "      <td>123</td>\n",
       "      <td>27.47</td>\n",
       "      <td>195.5</td>\n",
       "      <td>103</td>\n",
       "      <td>?</td>\n",
       "      <td>254.4</td>\n",
       "      <td>103</td>\n",
       "      <td>11.45</td>\n",
       "      <td>13.7</td>\n",
       "      <td>3</td>\n",
       "      <td>3.70</td>\n",
       "      <td>1</td>\n",
       "      <td>False.</td>\n",
       "    </tr>\n",
       "    <tr>\n",
       "      <th>2</th>\n",
       "      <td>NJ</td>\n",
       "      <td>137</td>\n",
       "      <td>415</td>\n",
       "      <td>358-1921</td>\n",
       "      <td>no</td>\n",
       "      <td>no</td>\n",
       "      <td>0</td>\n",
       "      <td>243.4</td>\n",
       "      <td>114</td>\n",
       "      <td>41.38</td>\n",
       "      <td>121.2</td>\n",
       "      <td>110</td>\n",
       "      <td>10.3</td>\n",
       "      <td>162.6</td>\n",
       "      <td>104</td>\n",
       "      <td>7.32</td>\n",
       "      <td>12.2</td>\n",
       "      <td>5</td>\n",
       "      <td>3.29</td>\n",
       "      <td>0</td>\n",
       "      <td>False.</td>\n",
       "    </tr>\n",
       "    <tr>\n",
       "      <th>3</th>\n",
       "      <td>OH</td>\n",
       "      <td>84</td>\n",
       "      <td>408</td>\n",
       "      <td>375-9999</td>\n",
       "      <td>yes</td>\n",
       "      <td>no</td>\n",
       "      <td>0</td>\n",
       "      <td>299.4</td>\n",
       "      <td>71</td>\n",
       "      <td>50.90</td>\n",
       "      <td>61.9</td>\n",
       "      <td>88</td>\n",
       "      <td>5.26</td>\n",
       "      <td>196.9</td>\n",
       "      <td>89</td>\n",
       "      <td>8.86</td>\n",
       "      <td>6.6</td>\n",
       "      <td>7</td>\n",
       "      <td>1.78</td>\n",
       "      <td>2</td>\n",
       "      <td>False.</td>\n",
       "    </tr>\n",
       "    <tr>\n",
       "      <th>4</th>\n",
       "      <td>OK</td>\n",
       "      <td>75</td>\n",
       "      <td>415</td>\n",
       "      <td>330-6626</td>\n",
       "      <td>yes</td>\n",
       "      <td>no</td>\n",
       "      <td>0</td>\n",
       "      <td>166.7</td>\n",
       "      <td>113</td>\n",
       "      <td>28.34</td>\n",
       "      <td>148.3</td>\n",
       "      <td>122</td>\n",
       "      <td>12.61</td>\n",
       "      <td>186.9</td>\n",
       "      <td>121</td>\n",
       "      <td>8.41</td>\n",
       "      <td>10.1</td>\n",
       "      <td>3</td>\n",
       "      <td>2.73</td>\n",
       "      <td>3</td>\n",
       "      <td>False.</td>\n",
       "    </tr>\n",
       "  </tbody>\n",
       "</table>\n",
       "</div>"
      ],
      "text/plain": [
       "  state  account_length  area_code phone_number intl_plan voice_mail_plan  \\\n",
       "0    KS             128        415     382-4657        no             yes   \n",
       "1    OH             107        415     371-7191        no             yes   \n",
       "2    NJ             137        415     358-1921        no              no   \n",
       "3    OH              84        408     375-9999       yes              no   \n",
       "4    OK              75        415     330-6626       yes              no   \n",
       "\n",
       "   number_vmail_messages  total_day_minutes  total_day_calls  \\\n",
       "0                     25              265.1              110   \n",
       "1                     26              161.6              123   \n",
       "2                      0              243.4              114   \n",
       "3                      0              299.4               71   \n",
       "4                      0              166.7              113   \n",
       "\n",
       "   total_day_charge  total_eve_minutes  total_eve_calls total_eve_charge  \\\n",
       "0             45.07              197.4               99            16.78   \n",
       "1             27.47              195.5              103                ?   \n",
       "2             41.38              121.2              110             10.3   \n",
       "3             50.90               61.9               88             5.26   \n",
       "4             28.34              148.3              122            12.61   \n",
       "\n",
       "   total_night_minutes  total_night_calls  total_night_charge  \\\n",
       "0                244.7                 91               11.01   \n",
       "1                254.4                103               11.45   \n",
       "2                162.6                104                7.32   \n",
       "3                196.9                 89                8.86   \n",
       "4                186.9                121                8.41   \n",
       "\n",
       "   total_intl_minutes  total_intl_calls  total_intl_charge  \\\n",
       "0                10.0                 3               2.70   \n",
       "1                13.7                 3               3.70   \n",
       "2                12.2                 5               3.29   \n",
       "3                 6.6                 7               1.78   \n",
       "4                10.1                 3               2.73   \n",
       "\n",
       "   number_customer_service_calls  churned  \n",
       "0                              1   False.  \n",
       "1                              1   False.  \n",
       "2                              0   False.  \n",
       "3                              2   False.  \n",
       "4                              3   False.  "
      ]
     },
     "execution_count": 10,
     "metadata": {},
     "output_type": "execute_result"
    }
   ],
   "source": [
    "df.head()"
   ]
  },
  {
   "cell_type": "code",
   "execution_count": 11,
   "id": "e2e0459f",
   "metadata": {},
   "outputs": [
    {
     "data": {
      "text/plain": [
       "Index(['state', 'account_length', 'area_code', 'phone_number', 'intl_plan',\n",
       "       'voice_mail_plan', 'number_vmail_messages', 'total_day_minutes',\n",
       "       'total_day_calls', 'total_day_charge', 'total_eve_minutes',\n",
       "       'total_eve_calls', 'total_eve_charge', 'total_night_minutes',\n",
       "       'total_night_calls', 'total_night_charge', 'total_intl_minutes',\n",
       "       'total_intl_calls', 'total_intl_charge',\n",
       "       'number_customer_service_calls', 'churned'],\n",
       "      dtype='object')"
      ]
     },
     "execution_count": 11,
     "metadata": {},
     "output_type": "execute_result"
    }
   ],
   "source": [
    "df.columns"
   ]
  },
  {
   "cell_type": "code",
   "execution_count": 12,
   "id": "6a398982",
   "metadata": {},
   "outputs": [
    {
     "data": {
      "text/html": [
       "<div>\n",
       "<style scoped>\n",
       "    .dataframe tbody tr th:only-of-type {\n",
       "        vertical-align: middle;\n",
       "    }\n",
       "\n",
       "    .dataframe tbody tr th {\n",
       "        vertical-align: top;\n",
       "    }\n",
       "\n",
       "    .dataframe thead th {\n",
       "        text-align: right;\n",
       "    }\n",
       "</style>\n",
       "<table border=\"1\" class=\"dataframe\">\n",
       "  <thead>\n",
       "    <tr style=\"text-align: right;\">\n",
       "      <th></th>\n",
       "      <th>account_length</th>\n",
       "      <th>area_code</th>\n",
       "      <th>number_vmail_messages</th>\n",
       "      <th>total_day_minutes</th>\n",
       "      <th>total_day_calls</th>\n",
       "      <th>total_day_charge</th>\n",
       "      <th>total_eve_minutes</th>\n",
       "      <th>total_eve_calls</th>\n",
       "      <th>total_night_minutes</th>\n",
       "      <th>total_night_calls</th>\n",
       "      <th>total_night_charge</th>\n",
       "      <th>total_intl_minutes</th>\n",
       "      <th>total_intl_calls</th>\n",
       "      <th>total_intl_charge</th>\n",
       "      <th>number_customer_service_calls</th>\n",
       "    </tr>\n",
       "  </thead>\n",
       "  <tbody>\n",
       "    <tr>\n",
       "      <th>count</th>\n",
       "      <td>5000.00000</td>\n",
       "      <td>5000.000000</td>\n",
       "      <td>5000.000000</td>\n",
       "      <td>5000.000000</td>\n",
       "      <td>5000.000000</td>\n",
       "      <td>5000.000000</td>\n",
       "      <td>5000.000000</td>\n",
       "      <td>5000.000000</td>\n",
       "      <td>5000.000000</td>\n",
       "      <td>5000.000000</td>\n",
       "      <td>5000.000000</td>\n",
       "      <td>5000.000000</td>\n",
       "      <td>5000.000000</td>\n",
       "      <td>4999.000000</td>\n",
       "      <td>5000.000000</td>\n",
       "    </tr>\n",
       "    <tr>\n",
       "      <th>mean</th>\n",
       "      <td>100.25860</td>\n",
       "      <td>436.911400</td>\n",
       "      <td>7.755200</td>\n",
       "      <td>180.288900</td>\n",
       "      <td>100.029400</td>\n",
       "      <td>30.649668</td>\n",
       "      <td>200.636560</td>\n",
       "      <td>100.191000</td>\n",
       "      <td>200.391620</td>\n",
       "      <td>99.919200</td>\n",
       "      <td>9.017732</td>\n",
       "      <td>10.261780</td>\n",
       "      <td>4.435200</td>\n",
       "      <td>2.771146</td>\n",
       "      <td>1.570400</td>\n",
       "    </tr>\n",
       "    <tr>\n",
       "      <th>std</th>\n",
       "      <td>39.69456</td>\n",
       "      <td>42.209182</td>\n",
       "      <td>13.546393</td>\n",
       "      <td>53.894699</td>\n",
       "      <td>19.831197</td>\n",
       "      <td>9.162069</td>\n",
       "      <td>50.551309</td>\n",
       "      <td>19.826496</td>\n",
       "      <td>50.527789</td>\n",
       "      <td>19.958686</td>\n",
       "      <td>2.273763</td>\n",
       "      <td>2.761396</td>\n",
       "      <td>2.456788</td>\n",
       "      <td>0.745580</td>\n",
       "      <td>1.306363</td>\n",
       "    </tr>\n",
       "    <tr>\n",
       "      <th>min</th>\n",
       "      <td>1.00000</td>\n",
       "      <td>408.000000</td>\n",
       "      <td>0.000000</td>\n",
       "      <td>0.000000</td>\n",
       "      <td>0.000000</td>\n",
       "      <td>0.000000</td>\n",
       "      <td>0.000000</td>\n",
       "      <td>0.000000</td>\n",
       "      <td>0.000000</td>\n",
       "      <td>0.000000</td>\n",
       "      <td>0.000000</td>\n",
       "      <td>0.000000</td>\n",
       "      <td>0.000000</td>\n",
       "      <td>0.000000</td>\n",
       "      <td>0.000000</td>\n",
       "    </tr>\n",
       "    <tr>\n",
       "      <th>25%</th>\n",
       "      <td>73.00000</td>\n",
       "      <td>408.000000</td>\n",
       "      <td>0.000000</td>\n",
       "      <td>143.700000</td>\n",
       "      <td>87.000000</td>\n",
       "      <td>24.430000</td>\n",
       "      <td>166.375000</td>\n",
       "      <td>87.000000</td>\n",
       "      <td>166.900000</td>\n",
       "      <td>87.000000</td>\n",
       "      <td>7.510000</td>\n",
       "      <td>8.500000</td>\n",
       "      <td>3.000000</td>\n",
       "      <td>2.300000</td>\n",
       "      <td>1.000000</td>\n",
       "    </tr>\n",
       "    <tr>\n",
       "      <th>50%</th>\n",
       "      <td>100.00000</td>\n",
       "      <td>415.000000</td>\n",
       "      <td>0.000000</td>\n",
       "      <td>180.100000</td>\n",
       "      <td>100.000000</td>\n",
       "      <td>30.620000</td>\n",
       "      <td>201.000000</td>\n",
       "      <td>100.000000</td>\n",
       "      <td>200.400000</td>\n",
       "      <td>100.000000</td>\n",
       "      <td>9.020000</td>\n",
       "      <td>10.300000</td>\n",
       "      <td>4.000000</td>\n",
       "      <td>2.780000</td>\n",
       "      <td>1.000000</td>\n",
       "    </tr>\n",
       "    <tr>\n",
       "      <th>75%</th>\n",
       "      <td>127.00000</td>\n",
       "      <td>415.000000</td>\n",
       "      <td>17.000000</td>\n",
       "      <td>216.200000</td>\n",
       "      <td>113.000000</td>\n",
       "      <td>36.750000</td>\n",
       "      <td>234.100000</td>\n",
       "      <td>114.000000</td>\n",
       "      <td>234.700000</td>\n",
       "      <td>113.000000</td>\n",
       "      <td>10.560000</td>\n",
       "      <td>12.000000</td>\n",
       "      <td>6.000000</td>\n",
       "      <td>3.240000</td>\n",
       "      <td>2.000000</td>\n",
       "    </tr>\n",
       "    <tr>\n",
       "      <th>max</th>\n",
       "      <td>243.00000</td>\n",
       "      <td>510.000000</td>\n",
       "      <td>52.000000</td>\n",
       "      <td>351.500000</td>\n",
       "      <td>165.000000</td>\n",
       "      <td>59.760000</td>\n",
       "      <td>363.700000</td>\n",
       "      <td>170.000000</td>\n",
       "      <td>395.000000</td>\n",
       "      <td>175.000000</td>\n",
       "      <td>17.770000</td>\n",
       "      <td>20.000000</td>\n",
       "      <td>20.000000</td>\n",
       "      <td>5.400000</td>\n",
       "      <td>9.000000</td>\n",
       "    </tr>\n",
       "  </tbody>\n",
       "</table>\n",
       "</div>"
      ],
      "text/plain": [
       "       account_length    area_code  number_vmail_messages  total_day_minutes  \\\n",
       "count      5000.00000  5000.000000            5000.000000        5000.000000   \n",
       "mean        100.25860   436.911400               7.755200         180.288900   \n",
       "std          39.69456    42.209182              13.546393          53.894699   \n",
       "min           1.00000   408.000000               0.000000           0.000000   \n",
       "25%          73.00000   408.000000               0.000000         143.700000   \n",
       "50%         100.00000   415.000000               0.000000         180.100000   \n",
       "75%         127.00000   415.000000              17.000000         216.200000   \n",
       "max         243.00000   510.000000              52.000000         351.500000   \n",
       "\n",
       "       total_day_calls  total_day_charge  total_eve_minutes  total_eve_calls  \\\n",
       "count      5000.000000       5000.000000        5000.000000      5000.000000   \n",
       "mean        100.029400         30.649668         200.636560       100.191000   \n",
       "std          19.831197          9.162069          50.551309        19.826496   \n",
       "min           0.000000          0.000000           0.000000         0.000000   \n",
       "25%          87.000000         24.430000         166.375000        87.000000   \n",
       "50%         100.000000         30.620000         201.000000       100.000000   \n",
       "75%         113.000000         36.750000         234.100000       114.000000   \n",
       "max         165.000000         59.760000         363.700000       170.000000   \n",
       "\n",
       "       total_night_minutes  total_night_calls  total_night_charge  \\\n",
       "count          5000.000000        5000.000000         5000.000000   \n",
       "mean            200.391620          99.919200            9.017732   \n",
       "std              50.527789          19.958686            2.273763   \n",
       "min               0.000000           0.000000            0.000000   \n",
       "25%             166.900000          87.000000            7.510000   \n",
       "50%             200.400000         100.000000            9.020000   \n",
       "75%             234.700000         113.000000           10.560000   \n",
       "max             395.000000         175.000000           17.770000   \n",
       "\n",
       "       total_intl_minutes  total_intl_calls  total_intl_charge  \\\n",
       "count         5000.000000       5000.000000        4999.000000   \n",
       "mean            10.261780          4.435200           2.771146   \n",
       "std              2.761396          2.456788           0.745580   \n",
       "min              0.000000          0.000000           0.000000   \n",
       "25%              8.500000          3.000000           2.300000   \n",
       "50%             10.300000          4.000000           2.780000   \n",
       "75%             12.000000          6.000000           3.240000   \n",
       "max             20.000000         20.000000           5.400000   \n",
       "\n",
       "       number_customer_service_calls  \n",
       "count                    5000.000000  \n",
       "mean                        1.570400  \n",
       "std                         1.306363  \n",
       "min                         0.000000  \n",
       "25%                         1.000000  \n",
       "50%                         1.000000  \n",
       "75%                         2.000000  \n",
       "max                         9.000000  "
      ]
     },
     "execution_count": 12,
     "metadata": {},
     "output_type": "execute_result"
    }
   ],
   "source": [
    "df.describe()"
   ]
  },
  {
   "cell_type": "markdown",
   "id": "d99ba4ce",
   "metadata": {},
   "source": [
    "From the first look, we can see that the dataset contains several numerical and categorical columns providing various information on the customer contract and use of the service."
   ]
  },
  {
   "cell_type": "markdown",
   "id": "ef3c22bc",
   "metadata": {},
   "source": [
    "It seems like **area_code**, **intl_plan**, **voice_mail_plan**, and **churned** are categorical variables. The other variables seem to be metric (or continous). The **state** and **phone_number** variables is probably also categorical."
   ]
  },
  {
   "cell_type": "code",
   "execution_count": 13,
   "id": "b5a14287",
   "metadata": {},
   "outputs": [
    {
     "data": {
      "text/plain": [
       "0       KS\n",
       "1       OH\n",
       "2       NJ\n",
       "3       OH\n",
       "4       OK\n",
       "        ..\n",
       "4995    HI\n",
       "4996    WV\n",
       "4997    DC\n",
       "4998    DC\n",
       "4999    VT\n",
       "Name: state, Length: 5000, dtype: object"
      ]
     },
     "execution_count": 13,
     "metadata": {},
     "output_type": "execute_result"
    }
   ],
   "source": [
    "df.state"
   ]
  },
  {
   "cell_type": "code",
   "execution_count": 14,
   "id": "074e9b6d",
   "metadata": {},
   "outputs": [
    {
     "data": {
      "text/plain": [
       "0        382-4657\n",
       "1        371-7191\n",
       "2        358-1921\n",
       "3        375-9999\n",
       "4        330-6626\n",
       "          ...    \n",
       "4995     365-8751\n",
       "4996     334-9736\n",
       "4997     333-6861\n",
       "4998     394-2206\n",
       "4999     373-8058\n",
       "Name: phone_number, Length: 5000, dtype: object"
      ]
     },
     "execution_count": 14,
     "metadata": {},
     "output_type": "execute_result"
    }
   ],
   "source": [
    "df.phone_number"
   ]
  },
  {
   "cell_type": "code",
   "execution_count": 15,
   "id": "9613ecc7",
   "metadata": {},
   "outputs": [
    {
     "data": {
      "text/plain": [
       "0       415\n",
       "1       415\n",
       "2       415\n",
       "3       408\n",
       "4       415\n",
       "       ... \n",
       "4995    408\n",
       "4996    415\n",
       "4997    415\n",
       "4998    510\n",
       "4999    415\n",
       "Name: area_code, Length: 5000, dtype: int64"
      ]
     },
     "execution_count": 15,
     "metadata": {},
     "output_type": "execute_result"
    }
   ],
   "source": [
    "df.area_code"
   ]
  },
  {
   "cell_type": "markdown",
   "id": "2c432aaa",
   "metadata": {},
   "source": [
    "Variable **state**, **phone_number** and **area_code** seem to be categorical and it is better to delete them from the dataset. "
   ]
  },
  {
   "cell_type": "code",
   "execution_count": 16,
   "id": "70cdccb2",
   "metadata": {},
   "outputs": [],
   "source": [
    "df = df.drop(['state', 'area_code', 'phone_number'], axis =1)"
   ]
  },
  {
   "cell_type": "markdown",
   "id": "f9d1562d",
   "metadata": {},
   "source": [
    "Let's see how dataset look now. "
   ]
  },
  {
   "cell_type": "code",
   "execution_count": 17,
   "id": "2a4396e8",
   "metadata": {},
   "outputs": [
    {
     "data": {
      "text/html": [
       "<div>\n",
       "<style scoped>\n",
       "    .dataframe tbody tr th:only-of-type {\n",
       "        vertical-align: middle;\n",
       "    }\n",
       "\n",
       "    .dataframe tbody tr th {\n",
       "        vertical-align: top;\n",
       "    }\n",
       "\n",
       "    .dataframe thead th {\n",
       "        text-align: right;\n",
       "    }\n",
       "</style>\n",
       "<table border=\"1\" class=\"dataframe\">\n",
       "  <thead>\n",
       "    <tr style=\"text-align: right;\">\n",
       "      <th></th>\n",
       "      <th>account_length</th>\n",
       "      <th>intl_plan</th>\n",
       "      <th>voice_mail_plan</th>\n",
       "      <th>number_vmail_messages</th>\n",
       "      <th>total_day_minutes</th>\n",
       "      <th>total_day_calls</th>\n",
       "      <th>total_day_charge</th>\n",
       "      <th>total_eve_minutes</th>\n",
       "      <th>total_eve_calls</th>\n",
       "      <th>total_eve_charge</th>\n",
       "      <th>total_night_minutes</th>\n",
       "      <th>total_night_calls</th>\n",
       "      <th>total_night_charge</th>\n",
       "      <th>total_intl_minutes</th>\n",
       "      <th>total_intl_calls</th>\n",
       "      <th>total_intl_charge</th>\n",
       "      <th>number_customer_service_calls</th>\n",
       "      <th>churned</th>\n",
       "    </tr>\n",
       "  </thead>\n",
       "  <tbody>\n",
       "    <tr>\n",
       "      <th>0</th>\n",
       "      <td>128</td>\n",
       "      <td>no</td>\n",
       "      <td>yes</td>\n",
       "      <td>25</td>\n",
       "      <td>265.1</td>\n",
       "      <td>110</td>\n",
       "      <td>45.07</td>\n",
       "      <td>197.4</td>\n",
       "      <td>99</td>\n",
       "      <td>16.78</td>\n",
       "      <td>244.7</td>\n",
       "      <td>91</td>\n",
       "      <td>11.01</td>\n",
       "      <td>10.0</td>\n",
       "      <td>3</td>\n",
       "      <td>2.70</td>\n",
       "      <td>1</td>\n",
       "      <td>False.</td>\n",
       "    </tr>\n",
       "    <tr>\n",
       "      <th>1</th>\n",
       "      <td>107</td>\n",
       "      <td>no</td>\n",
       "      <td>yes</td>\n",
       "      <td>26</td>\n",
       "      <td>161.6</td>\n",
       "      <td>123</td>\n",
       "      <td>27.47</td>\n",
       "      <td>195.5</td>\n",
       "      <td>103</td>\n",
       "      <td>?</td>\n",
       "      <td>254.4</td>\n",
       "      <td>103</td>\n",
       "      <td>11.45</td>\n",
       "      <td>13.7</td>\n",
       "      <td>3</td>\n",
       "      <td>3.70</td>\n",
       "      <td>1</td>\n",
       "      <td>False.</td>\n",
       "    </tr>\n",
       "    <tr>\n",
       "      <th>2</th>\n",
       "      <td>137</td>\n",
       "      <td>no</td>\n",
       "      <td>no</td>\n",
       "      <td>0</td>\n",
       "      <td>243.4</td>\n",
       "      <td>114</td>\n",
       "      <td>41.38</td>\n",
       "      <td>121.2</td>\n",
       "      <td>110</td>\n",
       "      <td>10.3</td>\n",
       "      <td>162.6</td>\n",
       "      <td>104</td>\n",
       "      <td>7.32</td>\n",
       "      <td>12.2</td>\n",
       "      <td>5</td>\n",
       "      <td>3.29</td>\n",
       "      <td>0</td>\n",
       "      <td>False.</td>\n",
       "    </tr>\n",
       "    <tr>\n",
       "      <th>3</th>\n",
       "      <td>84</td>\n",
       "      <td>yes</td>\n",
       "      <td>no</td>\n",
       "      <td>0</td>\n",
       "      <td>299.4</td>\n",
       "      <td>71</td>\n",
       "      <td>50.90</td>\n",
       "      <td>61.9</td>\n",
       "      <td>88</td>\n",
       "      <td>5.26</td>\n",
       "      <td>196.9</td>\n",
       "      <td>89</td>\n",
       "      <td>8.86</td>\n",
       "      <td>6.6</td>\n",
       "      <td>7</td>\n",
       "      <td>1.78</td>\n",
       "      <td>2</td>\n",
       "      <td>False.</td>\n",
       "    </tr>\n",
       "    <tr>\n",
       "      <th>4</th>\n",
       "      <td>75</td>\n",
       "      <td>yes</td>\n",
       "      <td>no</td>\n",
       "      <td>0</td>\n",
       "      <td>166.7</td>\n",
       "      <td>113</td>\n",
       "      <td>28.34</td>\n",
       "      <td>148.3</td>\n",
       "      <td>122</td>\n",
       "      <td>12.61</td>\n",
       "      <td>186.9</td>\n",
       "      <td>121</td>\n",
       "      <td>8.41</td>\n",
       "      <td>10.1</td>\n",
       "      <td>3</td>\n",
       "      <td>2.73</td>\n",
       "      <td>3</td>\n",
       "      <td>False.</td>\n",
       "    </tr>\n",
       "  </tbody>\n",
       "</table>\n",
       "</div>"
      ],
      "text/plain": [
       "   account_length intl_plan voice_mail_plan  number_vmail_messages  \\\n",
       "0             128        no             yes                     25   \n",
       "1             107        no             yes                     26   \n",
       "2             137        no              no                      0   \n",
       "3              84       yes              no                      0   \n",
       "4              75       yes              no                      0   \n",
       "\n",
       "   total_day_minutes  total_day_calls  total_day_charge  total_eve_minutes  \\\n",
       "0              265.1              110             45.07              197.4   \n",
       "1              161.6              123             27.47              195.5   \n",
       "2              243.4              114             41.38              121.2   \n",
       "3              299.4               71             50.90               61.9   \n",
       "4              166.7              113             28.34              148.3   \n",
       "\n",
       "   total_eve_calls total_eve_charge  total_night_minutes  total_night_calls  \\\n",
       "0               99            16.78                244.7                 91   \n",
       "1              103                ?                254.4                103   \n",
       "2              110             10.3                162.6                104   \n",
       "3               88             5.26                196.9                 89   \n",
       "4              122            12.61                186.9                121   \n",
       "\n",
       "   total_night_charge  total_intl_minutes  total_intl_calls  \\\n",
       "0               11.01                10.0                 3   \n",
       "1               11.45                13.7                 3   \n",
       "2                7.32                12.2                 5   \n",
       "3                8.86                 6.6                 7   \n",
       "4                8.41                10.1                 3   \n",
       "\n",
       "   total_intl_charge  number_customer_service_calls  churned  \n",
       "0               2.70                              1   False.  \n",
       "1               3.70                              1   False.  \n",
       "2               3.29                              0   False.  \n",
       "3               1.78                              2   False.  \n",
       "4               2.73                              3   False.  "
      ]
     },
     "execution_count": 17,
     "metadata": {},
     "output_type": "execute_result"
    }
   ],
   "source": [
    "df.head()"
   ]
  },
  {
   "cell_type": "code",
   "execution_count": 18,
   "id": "71a2cd5a",
   "metadata": {},
   "outputs": [
    {
     "data": {
      "text/plain": [
       "{int64: ['account_length', 'number_vmail_messages', 'total_day_calls', 'total_eve_calls', 'total_night_calls', 'total_intl_calls', 'number_customer_service_calls'], float64: ['total_day_minutes', 'total_day_charge', 'total_eve_minutes', 'total_night_minutes', 'total_night_charge', 'total_intl_minutes', 'total_intl_charge'], object: ['intl_plan', 'voice_mail_plan', 'total_eve_charge', 'churned']}"
      ]
     },
     "execution_count": 18,
     "metadata": {},
     "output_type": "execute_result"
    }
   ],
   "source": [
    "df.columns.to_series().groupby(df.dtypes).groups"
   ]
  },
  {
   "cell_type": "code",
   "execution_count": 19,
   "id": "a1a8cf59",
   "metadata": {},
   "outputs": [
    {
     "name": "stdout",
     "output_type": "stream",
     "text": [
      "<class 'pandas.core.frame.DataFrame'>\n",
      "RangeIndex: 5000 entries, 0 to 4999\n",
      "Data columns (total 18 columns):\n",
      " #   Column                         Non-Null Count  Dtype  \n",
      "---  ------                         --------------  -----  \n",
      " 0   account_length                 5000 non-null   int64  \n",
      " 1   intl_plan                      5000 non-null   object \n",
      " 2   voice_mail_plan                5000 non-null   object \n",
      " 3   number_vmail_messages          5000 non-null   int64  \n",
      " 4   total_day_minutes              5000 non-null   float64\n",
      " 5   total_day_calls                5000 non-null   int64  \n",
      " 6   total_day_charge               5000 non-null   float64\n",
      " 7   total_eve_minutes              5000 non-null   float64\n",
      " 8   total_eve_calls                5000 non-null   int64  \n",
      " 9   total_eve_charge               5000 non-null   object \n",
      " 10  total_night_minutes            5000 non-null   float64\n",
      " 11  total_night_calls              5000 non-null   int64  \n",
      " 12  total_night_charge             5000 non-null   float64\n",
      " 13  total_intl_minutes             5000 non-null   float64\n",
      " 14  total_intl_calls               5000 non-null   int64  \n",
      " 15  total_intl_charge              4999 non-null   float64\n",
      " 16  number_customer_service_calls  5000 non-null   int64  \n",
      " 17  churned                        5000 non-null   object \n",
      "dtypes: float64(7), int64(7), object(4)\n",
      "memory usage: 703.2+ KB\n"
     ]
    }
   ],
   "source": [
    "df.info()"
   ]
  },
  {
   "cell_type": "markdown",
   "id": "a38fb55e",
   "metadata": {},
   "source": [
    "It looks like we have four string variables (i.e., intl_plan, voice_mail_plan, total_eve_charge, and churned). We will need to convert these variables in to numbers."
   ]
  },
  {
   "cell_type": "code",
   "execution_count": 20,
   "id": "dbb61fff",
   "metadata": {},
   "outputs": [],
   "source": [
    "# intl_plan\n",
    "intl_plan = np.zeros(df.shape[0])\n",
    "intl_plan[df.intl_plan == ' yes'] = 1\n",
    "df.intl_plan = intl_plan\n",
    "\n",
    "# voice_mail_plan\n",
    "voice_mail_plan = np.zeros(df.shape[0])\n",
    "voice_mail_plan[df.voice_mail_plan == ' yes'] = 1\n",
    "df.voice_mail_plan = voice_mail_plan\n",
    "\n",
    "# total_eve_charge\n",
    "df.total_eve_charge = pd.to_numeric(df.total_eve_charge, errors = 'coerce')\n",
    "\n",
    "# churned\n",
    "churned = np.zeros(df.shape[0])\n",
    "churned[df.churned == ' True.'] = 1\n",
    "df.churned = churned"
   ]
  },
  {
   "cell_type": "code",
   "execution_count": 21,
   "id": "f3753931",
   "metadata": {},
   "outputs": [
    {
     "data": {
      "text/html": [
       "<div>\n",
       "<style scoped>\n",
       "    .dataframe tbody tr th:only-of-type {\n",
       "        vertical-align: middle;\n",
       "    }\n",
       "\n",
       "    .dataframe tbody tr th {\n",
       "        vertical-align: top;\n",
       "    }\n",
       "\n",
       "    .dataframe thead th {\n",
       "        text-align: right;\n",
       "    }\n",
       "</style>\n",
       "<table border=\"1\" class=\"dataframe\">\n",
       "  <thead>\n",
       "    <tr style=\"text-align: right;\">\n",
       "      <th></th>\n",
       "      <th>account_length</th>\n",
       "      <th>intl_plan</th>\n",
       "      <th>voice_mail_plan</th>\n",
       "      <th>number_vmail_messages</th>\n",
       "      <th>total_day_minutes</th>\n",
       "      <th>total_day_calls</th>\n",
       "      <th>total_day_charge</th>\n",
       "      <th>total_eve_minutes</th>\n",
       "      <th>total_eve_calls</th>\n",
       "      <th>total_eve_charge</th>\n",
       "      <th>total_night_minutes</th>\n",
       "      <th>total_night_calls</th>\n",
       "      <th>total_night_charge</th>\n",
       "      <th>total_intl_minutes</th>\n",
       "      <th>total_intl_calls</th>\n",
       "      <th>total_intl_charge</th>\n",
       "      <th>number_customer_service_calls</th>\n",
       "      <th>churned</th>\n",
       "    </tr>\n",
       "  </thead>\n",
       "  <tbody>\n",
       "    <tr>\n",
       "      <th>0</th>\n",
       "      <td>128</td>\n",
       "      <td>0.0</td>\n",
       "      <td>1.0</td>\n",
       "      <td>25</td>\n",
       "      <td>265.1</td>\n",
       "      <td>110</td>\n",
       "      <td>45.07</td>\n",
       "      <td>197.4</td>\n",
       "      <td>99</td>\n",
       "      <td>16.78</td>\n",
       "      <td>244.7</td>\n",
       "      <td>91</td>\n",
       "      <td>11.01</td>\n",
       "      <td>10.0</td>\n",
       "      <td>3</td>\n",
       "      <td>2.70</td>\n",
       "      <td>1</td>\n",
       "      <td>0.0</td>\n",
       "    </tr>\n",
       "    <tr>\n",
       "      <th>1</th>\n",
       "      <td>107</td>\n",
       "      <td>0.0</td>\n",
       "      <td>1.0</td>\n",
       "      <td>26</td>\n",
       "      <td>161.6</td>\n",
       "      <td>123</td>\n",
       "      <td>27.47</td>\n",
       "      <td>195.5</td>\n",
       "      <td>103</td>\n",
       "      <td>NaN</td>\n",
       "      <td>254.4</td>\n",
       "      <td>103</td>\n",
       "      <td>11.45</td>\n",
       "      <td>13.7</td>\n",
       "      <td>3</td>\n",
       "      <td>3.70</td>\n",
       "      <td>1</td>\n",
       "      <td>0.0</td>\n",
       "    </tr>\n",
       "    <tr>\n",
       "      <th>2</th>\n",
       "      <td>137</td>\n",
       "      <td>0.0</td>\n",
       "      <td>0.0</td>\n",
       "      <td>0</td>\n",
       "      <td>243.4</td>\n",
       "      <td>114</td>\n",
       "      <td>41.38</td>\n",
       "      <td>121.2</td>\n",
       "      <td>110</td>\n",
       "      <td>10.30</td>\n",
       "      <td>162.6</td>\n",
       "      <td>104</td>\n",
       "      <td>7.32</td>\n",
       "      <td>12.2</td>\n",
       "      <td>5</td>\n",
       "      <td>3.29</td>\n",
       "      <td>0</td>\n",
       "      <td>0.0</td>\n",
       "    </tr>\n",
       "    <tr>\n",
       "      <th>3</th>\n",
       "      <td>84</td>\n",
       "      <td>1.0</td>\n",
       "      <td>0.0</td>\n",
       "      <td>0</td>\n",
       "      <td>299.4</td>\n",
       "      <td>71</td>\n",
       "      <td>50.90</td>\n",
       "      <td>61.9</td>\n",
       "      <td>88</td>\n",
       "      <td>5.26</td>\n",
       "      <td>196.9</td>\n",
       "      <td>89</td>\n",
       "      <td>8.86</td>\n",
       "      <td>6.6</td>\n",
       "      <td>7</td>\n",
       "      <td>1.78</td>\n",
       "      <td>2</td>\n",
       "      <td>0.0</td>\n",
       "    </tr>\n",
       "    <tr>\n",
       "      <th>4</th>\n",
       "      <td>75</td>\n",
       "      <td>1.0</td>\n",
       "      <td>0.0</td>\n",
       "      <td>0</td>\n",
       "      <td>166.7</td>\n",
       "      <td>113</td>\n",
       "      <td>28.34</td>\n",
       "      <td>148.3</td>\n",
       "      <td>122</td>\n",
       "      <td>12.61</td>\n",
       "      <td>186.9</td>\n",
       "      <td>121</td>\n",
       "      <td>8.41</td>\n",
       "      <td>10.1</td>\n",
       "      <td>3</td>\n",
       "      <td>2.73</td>\n",
       "      <td>3</td>\n",
       "      <td>0.0</td>\n",
       "    </tr>\n",
       "  </tbody>\n",
       "</table>\n",
       "</div>"
      ],
      "text/plain": [
       "   account_length  intl_plan  voice_mail_plan  number_vmail_messages  \\\n",
       "0             128        0.0              1.0                     25   \n",
       "1             107        0.0              1.0                     26   \n",
       "2             137        0.0              0.0                      0   \n",
       "3              84        1.0              0.0                      0   \n",
       "4              75        1.0              0.0                      0   \n",
       "\n",
       "   total_day_minutes  total_day_calls  total_day_charge  total_eve_minutes  \\\n",
       "0              265.1              110             45.07              197.4   \n",
       "1              161.6              123             27.47              195.5   \n",
       "2              243.4              114             41.38              121.2   \n",
       "3              299.4               71             50.90               61.9   \n",
       "4              166.7              113             28.34              148.3   \n",
       "\n",
       "   total_eve_calls  total_eve_charge  total_night_minutes  total_night_calls  \\\n",
       "0               99             16.78                244.7                 91   \n",
       "1              103               NaN                254.4                103   \n",
       "2              110             10.30                162.6                104   \n",
       "3               88              5.26                196.9                 89   \n",
       "4              122             12.61                186.9                121   \n",
       "\n",
       "   total_night_charge  total_intl_minutes  total_intl_calls  \\\n",
       "0               11.01                10.0                 3   \n",
       "1               11.45                13.7                 3   \n",
       "2                7.32                12.2                 5   \n",
       "3                8.86                 6.6                 7   \n",
       "4                8.41                10.1                 3   \n",
       "\n",
       "   total_intl_charge  number_customer_service_calls  churned  \n",
       "0               2.70                              1      0.0  \n",
       "1               3.70                              1      0.0  \n",
       "2               3.29                              0      0.0  \n",
       "3               1.78                              2      0.0  \n",
       "4               2.73                              3      0.0  "
      ]
     },
     "execution_count": 21,
     "metadata": {},
     "output_type": "execute_result"
    }
   ],
   "source": [
    "df.head()"
   ]
  },
  {
   "cell_type": "markdown",
   "id": "4d342e1b",
   "metadata": {},
   "source": [
    "Now all variables are numeric"
   ]
  },
  {
   "cell_type": "markdown",
   "id": "addc7b6b",
   "metadata": {},
   "source": [
    "### Check if we have missing data"
   ]
  },
  {
   "cell_type": "code",
   "execution_count": 22,
   "id": "8d78b725",
   "metadata": {},
   "outputs": [
    {
     "data": {
      "text/plain": [
       "account_length                   False\n",
       "intl_plan                        False\n",
       "voice_mail_plan                  False\n",
       "number_vmail_messages            False\n",
       "total_day_minutes                False\n",
       "total_day_calls                  False\n",
       "total_day_charge                 False\n",
       "total_eve_minutes                False\n",
       "total_eve_calls                  False\n",
       "total_eve_charge                  True\n",
       "total_night_minutes              False\n",
       "total_night_calls                False\n",
       "total_night_charge               False\n",
       "total_intl_minutes               False\n",
       "total_intl_calls                 False\n",
       "total_intl_charge                 True\n",
       "number_customer_service_calls    False\n",
       "churned                          False\n",
       "dtype: bool"
      ]
     },
     "execution_count": 22,
     "metadata": {},
     "output_type": "execute_result"
    }
   ],
   "source": [
    "df.isna().any()"
   ]
  },
  {
   "cell_type": "code",
   "execution_count": 23,
   "id": "a0465d2f",
   "metadata": {},
   "outputs": [
    {
     "data": {
      "text/plain": [
       "account_length                   0\n",
       "intl_plan                        0\n",
       "voice_mail_plan                  0\n",
       "number_vmail_messages            0\n",
       "total_day_minutes                0\n",
       "total_day_calls                  0\n",
       "total_day_charge                 0\n",
       "total_eve_minutes                0\n",
       "total_eve_calls                  0\n",
       "total_eve_charge                 5\n",
       "total_night_minutes              0\n",
       "total_night_calls                0\n",
       "total_night_charge               0\n",
       "total_intl_minutes               0\n",
       "total_intl_calls                 0\n",
       "total_intl_charge                1\n",
       "number_customer_service_calls    0\n",
       "churned                          0\n",
       "dtype: int64"
      ]
     },
     "execution_count": 23,
     "metadata": {},
     "output_type": "execute_result"
    }
   ],
   "source": [
    "df.isnull().sum()"
   ]
  },
  {
   "cell_type": "markdown",
   "id": "c9048230",
   "metadata": {},
   "source": [
    "It seems like we have a missing values in **total_eve_charge** and **total_intl_charge** variables. Let's check what is a percentage % of missing values."
   ]
  },
  {
   "cell_type": "code",
   "execution_count": 24,
   "id": "dfd70bd4",
   "metadata": {},
   "outputs": [
    {
     "data": {
      "text/plain": [
       "account_length                   0.00\n",
       "intl_plan                        0.00\n",
       "voice_mail_plan                  0.00\n",
       "number_vmail_messages            0.00\n",
       "total_day_minutes                0.00\n",
       "total_day_calls                  0.00\n",
       "total_day_charge                 0.00\n",
       "total_eve_minutes                0.00\n",
       "total_eve_calls                  0.00\n",
       "total_eve_charge                 0.10\n",
       "total_night_minutes              0.00\n",
       "total_night_calls                0.00\n",
       "total_night_charge               0.00\n",
       "total_intl_minutes               0.00\n",
       "total_intl_calls                 0.00\n",
       "total_intl_charge                0.02\n",
       "number_customer_service_calls    0.00\n",
       "churned                          0.00\n",
       "dtype: float64"
      ]
     },
     "execution_count": 24,
     "metadata": {},
     "output_type": "execute_result"
    }
   ],
   "source": [
    "percent_missing = df.isnull().sum() * 100 / len(df)\n",
    "percent_missing"
   ]
  },
  {
   "cell_type": "markdown",
   "id": "2c7e0f70",
   "metadata": {},
   "source": [
    "The amount of missing values is very small. 0,10% and 0,02%. We can replace missing values with the mean."
   ]
  },
  {
   "cell_type": "code",
   "execution_count": 25,
   "id": "c66e7992",
   "metadata": {},
   "outputs": [],
   "source": [
    "df.total_eve_charge.fillna(value = df.total_eve_charge.mean(), inplace = True)\n",
    "df.total_intl_charge.fillna(value = df.total_intl_charge.mean(), inplace = True)"
   ]
  },
  {
   "cell_type": "code",
   "execution_count": 26,
   "id": "13adb8b0",
   "metadata": {},
   "outputs": [
    {
     "data": {
      "text/plain": [
       "account_length                   0.0\n",
       "intl_plan                        0.0\n",
       "voice_mail_plan                  0.0\n",
       "number_vmail_messages            0.0\n",
       "total_day_minutes                0.0\n",
       "total_day_calls                  0.0\n",
       "total_day_charge                 0.0\n",
       "total_eve_minutes                0.0\n",
       "total_eve_calls                  0.0\n",
       "total_eve_charge                 0.0\n",
       "total_night_minutes              0.0\n",
       "total_night_calls                0.0\n",
       "total_night_charge               0.0\n",
       "total_intl_minutes               0.0\n",
       "total_intl_calls                 0.0\n",
       "total_intl_charge                0.0\n",
       "number_customer_service_calls    0.0\n",
       "churned                          0.0\n",
       "dtype: float64"
      ]
     },
     "execution_count": 26,
     "metadata": {},
     "output_type": "execute_result"
    }
   ],
   "source": [
    "percent_missing = df.isnull().sum() * 100 / len(df)\n",
    "percent_missing"
   ]
  },
  {
   "cell_type": "markdown",
   "id": "0b8f192f",
   "metadata": {},
   "source": [
    "Now we don't have missing values."
   ]
  },
  {
   "cell_type": "code",
   "execution_count": 28,
   "id": "f98ca064",
   "metadata": {},
   "outputs": [
    {
     "data": {
      "text/html": [
       "<div>\n",
       "<style scoped>\n",
       "    .dataframe tbody tr th:only-of-type {\n",
       "        vertical-align: middle;\n",
       "    }\n",
       "\n",
       "    .dataframe tbody tr th {\n",
       "        vertical-align: top;\n",
       "    }\n",
       "\n",
       "    .dataframe thead th {\n",
       "        text-align: right;\n",
       "    }\n",
       "</style>\n",
       "<table border=\"1\" class=\"dataframe\">\n",
       "  <thead>\n",
       "    <tr style=\"text-align: right;\">\n",
       "      <th></th>\n",
       "      <th>account_length</th>\n",
       "      <th>intl_plan</th>\n",
       "      <th>voice_mail_plan</th>\n",
       "      <th>number_vmail_messages</th>\n",
       "      <th>total_day_minutes</th>\n",
       "      <th>total_day_calls</th>\n",
       "      <th>total_day_charge</th>\n",
       "      <th>total_eve_minutes</th>\n",
       "      <th>total_eve_calls</th>\n",
       "      <th>total_eve_charge</th>\n",
       "      <th>total_night_minutes</th>\n",
       "      <th>total_night_calls</th>\n",
       "      <th>total_night_charge</th>\n",
       "      <th>total_intl_minutes</th>\n",
       "      <th>total_intl_calls</th>\n",
       "      <th>total_intl_charge</th>\n",
       "      <th>number_customer_service_calls</th>\n",
       "      <th>churned</th>\n",
       "    </tr>\n",
       "  </thead>\n",
       "  <tbody>\n",
       "    <tr>\n",
       "      <th>0</th>\n",
       "      <td>128</td>\n",
       "      <td>0.0</td>\n",
       "      <td>1.0</td>\n",
       "      <td>25</td>\n",
       "      <td>265.1</td>\n",
       "      <td>110</td>\n",
       "      <td>45.07</td>\n",
       "      <td>197.4</td>\n",
       "      <td>99</td>\n",
       "      <td>16.780000</td>\n",
       "      <td>244.7</td>\n",
       "      <td>91</td>\n",
       "      <td>11.01</td>\n",
       "      <td>10.0</td>\n",
       "      <td>3</td>\n",
       "      <td>2.70</td>\n",
       "      <td>1</td>\n",
       "      <td>0.0</td>\n",
       "    </tr>\n",
       "    <tr>\n",
       "      <th>1</th>\n",
       "      <td>107</td>\n",
       "      <td>0.0</td>\n",
       "      <td>1.0</td>\n",
       "      <td>26</td>\n",
       "      <td>161.6</td>\n",
       "      <td>123</td>\n",
       "      <td>27.47</td>\n",
       "      <td>195.5</td>\n",
       "      <td>103</td>\n",
       "      <td>17.052324</td>\n",
       "      <td>254.4</td>\n",
       "      <td>103</td>\n",
       "      <td>11.45</td>\n",
       "      <td>13.7</td>\n",
       "      <td>3</td>\n",
       "      <td>3.70</td>\n",
       "      <td>1</td>\n",
       "      <td>0.0</td>\n",
       "    </tr>\n",
       "    <tr>\n",
       "      <th>2</th>\n",
       "      <td>137</td>\n",
       "      <td>0.0</td>\n",
       "      <td>0.0</td>\n",
       "      <td>0</td>\n",
       "      <td>243.4</td>\n",
       "      <td>114</td>\n",
       "      <td>41.38</td>\n",
       "      <td>121.2</td>\n",
       "      <td>110</td>\n",
       "      <td>10.300000</td>\n",
       "      <td>162.6</td>\n",
       "      <td>104</td>\n",
       "      <td>7.32</td>\n",
       "      <td>12.2</td>\n",
       "      <td>5</td>\n",
       "      <td>3.29</td>\n",
       "      <td>0</td>\n",
       "      <td>0.0</td>\n",
       "    </tr>\n",
       "    <tr>\n",
       "      <th>3</th>\n",
       "      <td>84</td>\n",
       "      <td>1.0</td>\n",
       "      <td>0.0</td>\n",
       "      <td>0</td>\n",
       "      <td>299.4</td>\n",
       "      <td>71</td>\n",
       "      <td>50.90</td>\n",
       "      <td>61.9</td>\n",
       "      <td>88</td>\n",
       "      <td>5.260000</td>\n",
       "      <td>196.9</td>\n",
       "      <td>89</td>\n",
       "      <td>8.86</td>\n",
       "      <td>6.6</td>\n",
       "      <td>7</td>\n",
       "      <td>1.78</td>\n",
       "      <td>2</td>\n",
       "      <td>0.0</td>\n",
       "    </tr>\n",
       "    <tr>\n",
       "      <th>4</th>\n",
       "      <td>75</td>\n",
       "      <td>1.0</td>\n",
       "      <td>0.0</td>\n",
       "      <td>0</td>\n",
       "      <td>166.7</td>\n",
       "      <td>113</td>\n",
       "      <td>28.34</td>\n",
       "      <td>148.3</td>\n",
       "      <td>122</td>\n",
       "      <td>12.610000</td>\n",
       "      <td>186.9</td>\n",
       "      <td>121</td>\n",
       "      <td>8.41</td>\n",
       "      <td>10.1</td>\n",
       "      <td>3</td>\n",
       "      <td>2.73</td>\n",
       "      <td>3</td>\n",
       "      <td>0.0</td>\n",
       "    </tr>\n",
       "  </tbody>\n",
       "</table>\n",
       "</div>"
      ],
      "text/plain": [
       "   account_length  intl_plan  voice_mail_plan  number_vmail_messages  \\\n",
       "0             128        0.0              1.0                     25   \n",
       "1             107        0.0              1.0                     26   \n",
       "2             137        0.0              0.0                      0   \n",
       "3              84        1.0              0.0                      0   \n",
       "4              75        1.0              0.0                      0   \n",
       "\n",
       "   total_day_minutes  total_day_calls  total_day_charge  total_eve_minutes  \\\n",
       "0              265.1              110             45.07              197.4   \n",
       "1              161.6              123             27.47              195.5   \n",
       "2              243.4              114             41.38              121.2   \n",
       "3              299.4               71             50.90               61.9   \n",
       "4              166.7              113             28.34              148.3   \n",
       "\n",
       "   total_eve_calls  total_eve_charge  total_night_minutes  total_night_calls  \\\n",
       "0               99         16.780000                244.7                 91   \n",
       "1              103         17.052324                254.4                103   \n",
       "2              110         10.300000                162.6                104   \n",
       "3               88          5.260000                196.9                 89   \n",
       "4              122         12.610000                186.9                121   \n",
       "\n",
       "   total_night_charge  total_intl_minutes  total_intl_calls  \\\n",
       "0               11.01                10.0                 3   \n",
       "1               11.45                13.7                 3   \n",
       "2                7.32                12.2                 5   \n",
       "3                8.86                 6.6                 7   \n",
       "4                8.41                10.1                 3   \n",
       "\n",
       "   total_intl_charge  number_customer_service_calls  churned  \n",
       "0               2.70                              1      0.0  \n",
       "1               3.70                              1      0.0  \n",
       "2               3.29                              0      0.0  \n",
       "3               1.78                              2      0.0  \n",
       "4               2.73                              3      0.0  "
      ]
     },
     "execution_count": 28,
     "metadata": {},
     "output_type": "execute_result"
    }
   ],
   "source": [
    "df.head()"
   ]
  },
  {
   "cell_type": "markdown",
   "id": "b5e74d46",
   "metadata": {},
   "source": [
    "### Check target variable distribution:"
   ]
  },
  {
   "cell_type": "markdown",
   "id": "ed229cd9",
   "metadata": {},
   "source": [
    " Let’s look at the distribution of churn values. This is quite a simple yet crucial step to see if the dataset upholds any class imbalance issues."
   ]
  },
  {
   "cell_type": "code",
   "execution_count": 26,
   "id": "2f9e8a89",
   "metadata": {},
   "outputs": [
    {
     "data": {
      "text/plain": [
       "0.0    4293\n",
       "1.0     707\n",
       "Name: churned, dtype: int64"
      ]
     },
     "execution_count": 26,
     "metadata": {},
     "output_type": "execute_result"
    }
   ],
   "source": [
    "df[\"churned\"].value_counts()"
   ]
  },
  {
   "cell_type": "markdown",
   "id": "dffbecef",
   "metadata": {},
   "source": [
    "We can see, the data set is imbalanced with a high proportion of active customers compared to their churned counterparts"
   ]
  },
  {
   "cell_type": "markdown",
   "id": "1af63ed7",
   "metadata": {},
   "source": [
    "### Exploratory Data Analysis:"
   ]
  },
  {
   "cell_type": "markdown",
   "id": "c4d7ed07",
   "metadata": {},
   "source": [
    "Let’s try to explore and visualize our data set by doing distribution of independent variables to better understand the patterns in the data and to potentially form some hypothesis."
   ]
  },
  {
   "cell_type": "markdown",
   "id": "8fae6850",
   "metadata": {},
   "source": [
    "Let us see the correlations between the variables."
   ]
  },
  {
   "cell_type": "code",
   "execution_count": 27,
   "id": "f256aae9",
   "metadata": {},
   "outputs": [
    {
     "data": {
      "text/html": [
       "<div>\n",
       "<style scoped>\n",
       "    .dataframe tbody tr th:only-of-type {\n",
       "        vertical-align: middle;\n",
       "    }\n",
       "\n",
       "    .dataframe tbody tr th {\n",
       "        vertical-align: top;\n",
       "    }\n",
       "\n",
       "    .dataframe thead th {\n",
       "        text-align: right;\n",
       "    }\n",
       "</style>\n",
       "<table border=\"1\" class=\"dataframe\">\n",
       "  <thead>\n",
       "    <tr style=\"text-align: right;\">\n",
       "      <th></th>\n",
       "      <th>account_length</th>\n",
       "      <th>intl_plan</th>\n",
       "      <th>voice_mail_plan</th>\n",
       "      <th>number_vmail_messages</th>\n",
       "      <th>total_day_minutes</th>\n",
       "      <th>total_day_calls</th>\n",
       "      <th>total_day_charge</th>\n",
       "      <th>total_eve_minutes</th>\n",
       "      <th>total_eve_calls</th>\n",
       "      <th>total_eve_charge</th>\n",
       "      <th>total_night_minutes</th>\n",
       "      <th>total_night_calls</th>\n",
       "      <th>total_night_charge</th>\n",
       "      <th>total_intl_minutes</th>\n",
       "      <th>total_intl_calls</th>\n",
       "      <th>total_intl_charge</th>\n",
       "      <th>number_customer_service_calls</th>\n",
       "      <th>churned</th>\n",
       "    </tr>\n",
       "  </thead>\n",
       "  <tbody>\n",
       "    <tr>\n",
       "      <th>account_length</th>\n",
       "      <td>1.000000</td>\n",
       "      <td>0.014681</td>\n",
       "      <td>-0.006650</td>\n",
       "      <td>-0.014575</td>\n",
       "      <td>-0.001017</td>\n",
       "      <td>0.028240</td>\n",
       "      <td>-0.001019</td>\n",
       "      <td>-0.009591</td>\n",
       "      <td>0.009143</td>\n",
       "      <td>-0.009495</td>\n",
       "      <td>0.000668</td>\n",
       "      <td>-0.007825</td>\n",
       "      <td>0.000656</td>\n",
       "      <td>0.001291</td>\n",
       "      <td>0.014277</td>\n",
       "      <td>0.001223</td>\n",
       "      <td>-0.001445</td>\n",
       "      <td>0.021203</td>\n",
       "    </tr>\n",
       "    <tr>\n",
       "      <th>intl_plan</th>\n",
       "      <td>0.014681</td>\n",
       "      <td>1.000000</td>\n",
       "      <td>0.009054</td>\n",
       "      <td>0.011947</td>\n",
       "      <td>0.028138</td>\n",
       "      <td>0.008102</td>\n",
       "      <td>0.028141</td>\n",
       "      <td>0.021235</td>\n",
       "      <td>0.002505</td>\n",
       "      <td>0.021120</td>\n",
       "      <td>-0.026508</td>\n",
       "      <td>0.005623</td>\n",
       "      <td>-0.026510</td>\n",
       "      <td>0.031799</td>\n",
       "      <td>0.004493</td>\n",
       "      <td>0.031545</td>\n",
       "      <td>-0.012974</td>\n",
       "      <td>0.259123</td>\n",
       "    </tr>\n",
       "    <tr>\n",
       "      <th>voice_mail_plan</th>\n",
       "      <td>-0.006650</td>\n",
       "      <td>0.009054</td>\n",
       "      <td>1.000000</td>\n",
       "      <td>0.954508</td>\n",
       "      <td>0.002059</td>\n",
       "      <td>-0.001735</td>\n",
       "      <td>0.002056</td>\n",
       "      <td>0.023328</td>\n",
       "      <td>-0.005916</td>\n",
       "      <td>0.023713</td>\n",
       "      <td>0.005524</td>\n",
       "      <td>0.009176</td>\n",
       "      <td>0.005522</td>\n",
       "      <td>0.004116</td>\n",
       "      <td>-0.007525</td>\n",
       "      <td>0.004054</td>\n",
       "      <td>-0.014453</td>\n",
       "      <td>-0.110698</td>\n",
       "    </tr>\n",
       "    <tr>\n",
       "      <th>number_vmail_messages</th>\n",
       "      <td>-0.014575</td>\n",
       "      <td>0.011947</td>\n",
       "      <td>0.954508</td>\n",
       "      <td>1.000000</td>\n",
       "      <td>0.005381</td>\n",
       "      <td>0.000883</td>\n",
       "      <td>0.005377</td>\n",
       "      <td>0.019490</td>\n",
       "      <td>-0.003954</td>\n",
       "      <td>0.019847</td>\n",
       "      <td>0.005541</td>\n",
       "      <td>0.002676</td>\n",
       "      <td>0.005535</td>\n",
       "      <td>0.002463</td>\n",
       "      <td>0.000124</td>\n",
       "      <td>0.002361</td>\n",
       "      <td>-0.007086</td>\n",
       "      <td>-0.097633</td>\n",
       "    </tr>\n",
       "    <tr>\n",
       "      <th>total_day_minutes</th>\n",
       "      <td>-0.001017</td>\n",
       "      <td>0.028138</td>\n",
       "      <td>0.002059</td>\n",
       "      <td>0.005381</td>\n",
       "      <td>1.000000</td>\n",
       "      <td>0.001935</td>\n",
       "      <td>1.000000</td>\n",
       "      <td>-0.010750</td>\n",
       "      <td>0.008128</td>\n",
       "      <td>-0.010821</td>\n",
       "      <td>0.011799</td>\n",
       "      <td>0.004236</td>\n",
       "      <td>0.011783</td>\n",
       "      <td>-0.019486</td>\n",
       "      <td>-0.001303</td>\n",
       "      <td>-0.019512</td>\n",
       "      <td>0.002733</td>\n",
       "      <td>0.207705</td>\n",
       "    </tr>\n",
       "    <tr>\n",
       "      <th>total_day_calls</th>\n",
       "      <td>0.028240</td>\n",
       "      <td>0.008102</td>\n",
       "      <td>-0.001735</td>\n",
       "      <td>0.000883</td>\n",
       "      <td>0.001935</td>\n",
       "      <td>1.000000</td>\n",
       "      <td>0.001936</td>\n",
       "      <td>-0.000699</td>\n",
       "      <td>0.003754</td>\n",
       "      <td>-0.000913</td>\n",
       "      <td>0.002804</td>\n",
       "      <td>-0.008308</td>\n",
       "      <td>0.002802</td>\n",
       "      <td>0.013097</td>\n",
       "      <td>0.010893</td>\n",
       "      <td>0.013216</td>\n",
       "      <td>-0.010739</td>\n",
       "      <td>0.016130</td>\n",
       "    </tr>\n",
       "    <tr>\n",
       "      <th>total_day_charge</th>\n",
       "      <td>-0.001019</td>\n",
       "      <td>0.028141</td>\n",
       "      <td>0.002056</td>\n",
       "      <td>0.005377</td>\n",
       "      <td>1.000000</td>\n",
       "      <td>0.001936</td>\n",
       "      <td>1.000000</td>\n",
       "      <td>-0.010747</td>\n",
       "      <td>0.008129</td>\n",
       "      <td>-0.010818</td>\n",
       "      <td>0.011801</td>\n",
       "      <td>0.004235</td>\n",
       "      <td>0.011785</td>\n",
       "      <td>-0.019490</td>\n",
       "      <td>-0.001307</td>\n",
       "      <td>-0.019516</td>\n",
       "      <td>0.002726</td>\n",
       "      <td>0.207700</td>\n",
       "    </tr>\n",
       "    <tr>\n",
       "      <th>total_eve_minutes</th>\n",
       "      <td>-0.009591</td>\n",
       "      <td>0.021235</td>\n",
       "      <td>0.023328</td>\n",
       "      <td>0.019490</td>\n",
       "      <td>-0.010750</td>\n",
       "      <td>-0.000699</td>\n",
       "      <td>-0.010747</td>\n",
       "      <td>1.000000</td>\n",
       "      <td>0.002763</td>\n",
       "      <td>0.999735</td>\n",
       "      <td>-0.016639</td>\n",
       "      <td>0.013420</td>\n",
       "      <td>-0.016642</td>\n",
       "      <td>0.000137</td>\n",
       "      <td>0.008388</td>\n",
       "      <td>0.000131</td>\n",
       "      <td>-0.013823</td>\n",
       "      <td>0.089288</td>\n",
       "    </tr>\n",
       "    <tr>\n",
       "      <th>total_eve_calls</th>\n",
       "      <td>0.009143</td>\n",
       "      <td>0.002505</td>\n",
       "      <td>-0.005916</td>\n",
       "      <td>-0.003954</td>\n",
       "      <td>0.008128</td>\n",
       "      <td>0.003754</td>\n",
       "      <td>0.008129</td>\n",
       "      <td>0.002763</td>\n",
       "      <td>1.000000</td>\n",
       "      <td>0.002864</td>\n",
       "      <td>0.001781</td>\n",
       "      <td>-0.013682</td>\n",
       "      <td>0.001799</td>\n",
       "      <td>-0.007458</td>\n",
       "      <td>0.005574</td>\n",
       "      <td>-0.007544</td>\n",
       "      <td>0.006235</td>\n",
       "      <td>-0.006284</td>\n",
       "    </tr>\n",
       "    <tr>\n",
       "      <th>total_eve_charge</th>\n",
       "      <td>-0.009495</td>\n",
       "      <td>0.021120</td>\n",
       "      <td>0.023713</td>\n",
       "      <td>0.019847</td>\n",
       "      <td>-0.010821</td>\n",
       "      <td>-0.000913</td>\n",
       "      <td>-0.010818</td>\n",
       "      <td>0.999735</td>\n",
       "      <td>0.002864</td>\n",
       "      <td>1.000000</td>\n",
       "      <td>-0.016855</td>\n",
       "      <td>0.013296</td>\n",
       "      <td>-0.016858</td>\n",
       "      <td>0.000480</td>\n",
       "      <td>0.008294</td>\n",
       "      <td>0.000474</td>\n",
       "      <td>-0.013894</td>\n",
       "      <td>0.089495</td>\n",
       "    </tr>\n",
       "    <tr>\n",
       "      <th>total_night_minutes</th>\n",
       "      <td>0.000668</td>\n",
       "      <td>-0.026508</td>\n",
       "      <td>0.005524</td>\n",
       "      <td>0.005541</td>\n",
       "      <td>0.011799</td>\n",
       "      <td>0.002804</td>\n",
       "      <td>0.011801</td>\n",
       "      <td>-0.016639</td>\n",
       "      <td>0.001781</td>\n",
       "      <td>-0.016855</td>\n",
       "      <td>1.000000</td>\n",
       "      <td>0.026972</td>\n",
       "      <td>0.999999</td>\n",
       "      <td>-0.006721</td>\n",
       "      <td>-0.017214</td>\n",
       "      <td>-0.006821</td>\n",
       "      <td>-0.008533</td>\n",
       "      <td>0.045677</td>\n",
       "    </tr>\n",
       "    <tr>\n",
       "      <th>total_night_calls</th>\n",
       "      <td>-0.007825</td>\n",
       "      <td>0.005623</td>\n",
       "      <td>0.009176</td>\n",
       "      <td>0.002676</td>\n",
       "      <td>0.004236</td>\n",
       "      <td>-0.008308</td>\n",
       "      <td>0.004235</td>\n",
       "      <td>0.013420</td>\n",
       "      <td>-0.013682</td>\n",
       "      <td>0.013296</td>\n",
       "      <td>0.026972</td>\n",
       "      <td>1.000000</td>\n",
       "      <td>0.026949</td>\n",
       "      <td>0.000391</td>\n",
       "      <td>-0.000156</td>\n",
       "      <td>0.000378</td>\n",
       "      <td>-0.008283</td>\n",
       "      <td>-0.006986</td>\n",
       "    </tr>\n",
       "    <tr>\n",
       "      <th>total_night_charge</th>\n",
       "      <td>0.000656</td>\n",
       "      <td>-0.026510</td>\n",
       "      <td>0.005522</td>\n",
       "      <td>0.005535</td>\n",
       "      <td>0.011783</td>\n",
       "      <td>0.002802</td>\n",
       "      <td>0.011785</td>\n",
       "      <td>-0.016642</td>\n",
       "      <td>0.001799</td>\n",
       "      <td>-0.016858</td>\n",
       "      <td>0.999999</td>\n",
       "      <td>0.026949</td>\n",
       "      <td>1.000000</td>\n",
       "      <td>-0.006717</td>\n",
       "      <td>-0.017182</td>\n",
       "      <td>-0.006817</td>\n",
       "      <td>-0.008530</td>\n",
       "      <td>0.045673</td>\n",
       "    </tr>\n",
       "    <tr>\n",
       "      <th>total_intl_minutes</th>\n",
       "      <td>0.001291</td>\n",
       "      <td>0.031799</td>\n",
       "      <td>0.004116</td>\n",
       "      <td>0.002463</td>\n",
       "      <td>-0.019486</td>\n",
       "      <td>0.013097</td>\n",
       "      <td>-0.019490</td>\n",
       "      <td>0.000137</td>\n",
       "      <td>-0.007458</td>\n",
       "      <td>0.000480</td>\n",
       "      <td>-0.006721</td>\n",
       "      <td>0.000391</td>\n",
       "      <td>-0.006717</td>\n",
       "      <td>1.000000</td>\n",
       "      <td>0.016791</td>\n",
       "      <td>0.999981</td>\n",
       "      <td>-0.012122</td>\n",
       "      <td>0.063285</td>\n",
       "    </tr>\n",
       "    <tr>\n",
       "      <th>total_intl_calls</th>\n",
       "      <td>0.014277</td>\n",
       "      <td>0.004493</td>\n",
       "      <td>-0.007525</td>\n",
       "      <td>0.000124</td>\n",
       "      <td>-0.001303</td>\n",
       "      <td>0.010893</td>\n",
       "      <td>-0.001307</td>\n",
       "      <td>0.008388</td>\n",
       "      <td>0.005574</td>\n",
       "      <td>0.008294</td>\n",
       "      <td>-0.017214</td>\n",
       "      <td>-0.000156</td>\n",
       "      <td>-0.017182</td>\n",
       "      <td>0.016791</td>\n",
       "      <td>1.000000</td>\n",
       "      <td>0.016885</td>\n",
       "      <td>-0.019147</td>\n",
       "      <td>-0.046893</td>\n",
       "    </tr>\n",
       "    <tr>\n",
       "      <th>total_intl_charge</th>\n",
       "      <td>0.001223</td>\n",
       "      <td>0.031545</td>\n",
       "      <td>0.004054</td>\n",
       "      <td>0.002361</td>\n",
       "      <td>-0.019512</td>\n",
       "      <td>0.013216</td>\n",
       "      <td>-0.019516</td>\n",
       "      <td>0.000131</td>\n",
       "      <td>-0.007544</td>\n",
       "      <td>0.000474</td>\n",
       "      <td>-0.006821</td>\n",
       "      <td>0.000378</td>\n",
       "      <td>-0.006817</td>\n",
       "      <td>0.999981</td>\n",
       "      <td>0.016885</td>\n",
       "      <td>1.000000</td>\n",
       "      <td>-0.012100</td>\n",
       "      <td>0.063303</td>\n",
       "    </tr>\n",
       "    <tr>\n",
       "      <th>number_customer_service_calls</th>\n",
       "      <td>-0.001445</td>\n",
       "      <td>-0.012974</td>\n",
       "      <td>-0.014453</td>\n",
       "      <td>-0.007086</td>\n",
       "      <td>0.002733</td>\n",
       "      <td>-0.010739</td>\n",
       "      <td>0.002726</td>\n",
       "      <td>-0.013823</td>\n",
       "      <td>0.006235</td>\n",
       "      <td>-0.013894</td>\n",
       "      <td>-0.008533</td>\n",
       "      <td>-0.008283</td>\n",
       "      <td>-0.008530</td>\n",
       "      <td>-0.012122</td>\n",
       "      <td>-0.019147</td>\n",
       "      <td>-0.012100</td>\n",
       "      <td>1.000000</td>\n",
       "      <td>0.212564</td>\n",
       "    </tr>\n",
       "    <tr>\n",
       "      <th>churned</th>\n",
       "      <td>0.021203</td>\n",
       "      <td>0.259123</td>\n",
       "      <td>-0.110698</td>\n",
       "      <td>-0.097633</td>\n",
       "      <td>0.207705</td>\n",
       "      <td>0.016130</td>\n",
       "      <td>0.207700</td>\n",
       "      <td>0.089288</td>\n",
       "      <td>-0.006284</td>\n",
       "      <td>0.089495</td>\n",
       "      <td>0.045677</td>\n",
       "      <td>-0.006986</td>\n",
       "      <td>0.045673</td>\n",
       "      <td>0.063285</td>\n",
       "      <td>-0.046893</td>\n",
       "      <td>0.063303</td>\n",
       "      <td>0.212564</td>\n",
       "      <td>1.000000</td>\n",
       "    </tr>\n",
       "  </tbody>\n",
       "</table>\n",
       "</div>"
      ],
      "text/plain": [
       "                               account_length  intl_plan  voice_mail_plan  \\\n",
       "account_length                       1.000000   0.014681        -0.006650   \n",
       "intl_plan                            0.014681   1.000000         0.009054   \n",
       "voice_mail_plan                     -0.006650   0.009054         1.000000   \n",
       "number_vmail_messages               -0.014575   0.011947         0.954508   \n",
       "total_day_minutes                   -0.001017   0.028138         0.002059   \n",
       "total_day_calls                      0.028240   0.008102        -0.001735   \n",
       "total_day_charge                    -0.001019   0.028141         0.002056   \n",
       "total_eve_minutes                   -0.009591   0.021235         0.023328   \n",
       "total_eve_calls                      0.009143   0.002505        -0.005916   \n",
       "total_eve_charge                    -0.009495   0.021120         0.023713   \n",
       "total_night_minutes                  0.000668  -0.026508         0.005524   \n",
       "total_night_calls                   -0.007825   0.005623         0.009176   \n",
       "total_night_charge                   0.000656  -0.026510         0.005522   \n",
       "total_intl_minutes                   0.001291   0.031799         0.004116   \n",
       "total_intl_calls                     0.014277   0.004493        -0.007525   \n",
       "total_intl_charge                    0.001223   0.031545         0.004054   \n",
       "number_customer_service_calls       -0.001445  -0.012974        -0.014453   \n",
       "churned                              0.021203   0.259123        -0.110698   \n",
       "\n",
       "                               number_vmail_messages  total_day_minutes  \\\n",
       "account_length                             -0.014575          -0.001017   \n",
       "intl_plan                                   0.011947           0.028138   \n",
       "voice_mail_plan                             0.954508           0.002059   \n",
       "number_vmail_messages                       1.000000           0.005381   \n",
       "total_day_minutes                           0.005381           1.000000   \n",
       "total_day_calls                             0.000883           0.001935   \n",
       "total_day_charge                            0.005377           1.000000   \n",
       "total_eve_minutes                           0.019490          -0.010750   \n",
       "total_eve_calls                            -0.003954           0.008128   \n",
       "total_eve_charge                            0.019847          -0.010821   \n",
       "total_night_minutes                         0.005541           0.011799   \n",
       "total_night_calls                           0.002676           0.004236   \n",
       "total_night_charge                          0.005535           0.011783   \n",
       "total_intl_minutes                          0.002463          -0.019486   \n",
       "total_intl_calls                            0.000124          -0.001303   \n",
       "total_intl_charge                           0.002361          -0.019512   \n",
       "number_customer_service_calls              -0.007086           0.002733   \n",
       "churned                                    -0.097633           0.207705   \n",
       "\n",
       "                               total_day_calls  total_day_charge  \\\n",
       "account_length                        0.028240         -0.001019   \n",
       "intl_plan                             0.008102          0.028141   \n",
       "voice_mail_plan                      -0.001735          0.002056   \n",
       "number_vmail_messages                 0.000883          0.005377   \n",
       "total_day_minutes                     0.001935          1.000000   \n",
       "total_day_calls                       1.000000          0.001936   \n",
       "total_day_charge                      0.001936          1.000000   \n",
       "total_eve_minutes                    -0.000699         -0.010747   \n",
       "total_eve_calls                       0.003754          0.008129   \n",
       "total_eve_charge                     -0.000913         -0.010818   \n",
       "total_night_minutes                   0.002804          0.011801   \n",
       "total_night_calls                    -0.008308          0.004235   \n",
       "total_night_charge                    0.002802          0.011785   \n",
       "total_intl_minutes                    0.013097         -0.019490   \n",
       "total_intl_calls                      0.010893         -0.001307   \n",
       "total_intl_charge                     0.013216         -0.019516   \n",
       "number_customer_service_calls        -0.010739          0.002726   \n",
       "churned                               0.016130          0.207700   \n",
       "\n",
       "                               total_eve_minutes  total_eve_calls  \\\n",
       "account_length                         -0.009591         0.009143   \n",
       "intl_plan                               0.021235         0.002505   \n",
       "voice_mail_plan                         0.023328        -0.005916   \n",
       "number_vmail_messages                   0.019490        -0.003954   \n",
       "total_day_minutes                      -0.010750         0.008128   \n",
       "total_day_calls                        -0.000699         0.003754   \n",
       "total_day_charge                       -0.010747         0.008129   \n",
       "total_eve_minutes                       1.000000         0.002763   \n",
       "total_eve_calls                         0.002763         1.000000   \n",
       "total_eve_charge                        0.999735         0.002864   \n",
       "total_night_minutes                    -0.016639         0.001781   \n",
       "total_night_calls                       0.013420        -0.013682   \n",
       "total_night_charge                     -0.016642         0.001799   \n",
       "total_intl_minutes                      0.000137        -0.007458   \n",
       "total_intl_calls                        0.008388         0.005574   \n",
       "total_intl_charge                       0.000131        -0.007544   \n",
       "number_customer_service_calls          -0.013823         0.006235   \n",
       "churned                                 0.089288        -0.006284   \n",
       "\n",
       "                               total_eve_charge  total_night_minutes  \\\n",
       "account_length                        -0.009495             0.000668   \n",
       "intl_plan                              0.021120            -0.026508   \n",
       "voice_mail_plan                        0.023713             0.005524   \n",
       "number_vmail_messages                  0.019847             0.005541   \n",
       "total_day_minutes                     -0.010821             0.011799   \n",
       "total_day_calls                       -0.000913             0.002804   \n",
       "total_day_charge                      -0.010818             0.011801   \n",
       "total_eve_minutes                      0.999735            -0.016639   \n",
       "total_eve_calls                        0.002864             0.001781   \n",
       "total_eve_charge                       1.000000            -0.016855   \n",
       "total_night_minutes                   -0.016855             1.000000   \n",
       "total_night_calls                      0.013296             0.026972   \n",
       "total_night_charge                    -0.016858             0.999999   \n",
       "total_intl_minutes                     0.000480            -0.006721   \n",
       "total_intl_calls                       0.008294            -0.017214   \n",
       "total_intl_charge                      0.000474            -0.006821   \n",
       "number_customer_service_calls         -0.013894            -0.008533   \n",
       "churned                                0.089495             0.045677   \n",
       "\n",
       "                               total_night_calls  total_night_charge  \\\n",
       "account_length                         -0.007825            0.000656   \n",
       "intl_plan                               0.005623           -0.026510   \n",
       "voice_mail_plan                         0.009176            0.005522   \n",
       "number_vmail_messages                   0.002676            0.005535   \n",
       "total_day_minutes                       0.004236            0.011783   \n",
       "total_day_calls                        -0.008308            0.002802   \n",
       "total_day_charge                        0.004235            0.011785   \n",
       "total_eve_minutes                       0.013420           -0.016642   \n",
       "total_eve_calls                        -0.013682            0.001799   \n",
       "total_eve_charge                        0.013296           -0.016858   \n",
       "total_night_minutes                     0.026972            0.999999   \n",
       "total_night_calls                       1.000000            0.026949   \n",
       "total_night_charge                      0.026949            1.000000   \n",
       "total_intl_minutes                      0.000391           -0.006717   \n",
       "total_intl_calls                       -0.000156           -0.017182   \n",
       "total_intl_charge                       0.000378           -0.006817   \n",
       "number_customer_service_calls          -0.008283           -0.008530   \n",
       "churned                                -0.006986            0.045673   \n",
       "\n",
       "                               total_intl_minutes  total_intl_calls  \\\n",
       "account_length                           0.001291          0.014277   \n",
       "intl_plan                                0.031799          0.004493   \n",
       "voice_mail_plan                          0.004116         -0.007525   \n",
       "number_vmail_messages                    0.002463          0.000124   \n",
       "total_day_minutes                       -0.019486         -0.001303   \n",
       "total_day_calls                          0.013097          0.010893   \n",
       "total_day_charge                        -0.019490         -0.001307   \n",
       "total_eve_minutes                        0.000137          0.008388   \n",
       "total_eve_calls                         -0.007458          0.005574   \n",
       "total_eve_charge                         0.000480          0.008294   \n",
       "total_night_minutes                     -0.006721         -0.017214   \n",
       "total_night_calls                        0.000391         -0.000156   \n",
       "total_night_charge                      -0.006717         -0.017182   \n",
       "total_intl_minutes                       1.000000          0.016791   \n",
       "total_intl_calls                         0.016791          1.000000   \n",
       "total_intl_charge                        0.999981          0.016885   \n",
       "number_customer_service_calls           -0.012122         -0.019147   \n",
       "churned                                  0.063285         -0.046893   \n",
       "\n",
       "                               total_intl_charge  \\\n",
       "account_length                          0.001223   \n",
       "intl_plan                               0.031545   \n",
       "voice_mail_plan                         0.004054   \n",
       "number_vmail_messages                   0.002361   \n",
       "total_day_minutes                      -0.019512   \n",
       "total_day_calls                         0.013216   \n",
       "total_day_charge                       -0.019516   \n",
       "total_eve_minutes                       0.000131   \n",
       "total_eve_calls                        -0.007544   \n",
       "total_eve_charge                        0.000474   \n",
       "total_night_minutes                    -0.006821   \n",
       "total_night_calls                       0.000378   \n",
       "total_night_charge                     -0.006817   \n",
       "total_intl_minutes                      0.999981   \n",
       "total_intl_calls                        0.016885   \n",
       "total_intl_charge                       1.000000   \n",
       "number_customer_service_calls          -0.012100   \n",
       "churned                                 0.063303   \n",
       "\n",
       "                               number_customer_service_calls   churned  \n",
       "account_length                                     -0.001445  0.021203  \n",
       "intl_plan                                          -0.012974  0.259123  \n",
       "voice_mail_plan                                    -0.014453 -0.110698  \n",
       "number_vmail_messages                              -0.007086 -0.097633  \n",
       "total_day_minutes                                   0.002733  0.207705  \n",
       "total_day_calls                                    -0.010739  0.016130  \n",
       "total_day_charge                                    0.002726  0.207700  \n",
       "total_eve_minutes                                  -0.013823  0.089288  \n",
       "total_eve_calls                                     0.006235 -0.006284  \n",
       "total_eve_charge                                   -0.013894  0.089495  \n",
       "total_night_minutes                                -0.008533  0.045677  \n",
       "total_night_calls                                  -0.008283 -0.006986  \n",
       "total_night_charge                                 -0.008530  0.045673  \n",
       "total_intl_minutes                                 -0.012122  0.063285  \n",
       "total_intl_calls                                   -0.019147 -0.046893  \n",
       "total_intl_charge                                  -0.012100  0.063303  \n",
       "number_customer_service_calls                       1.000000  0.212564  \n",
       "churned                                             0.212564  1.000000  "
      ]
     },
     "execution_count": 27,
     "metadata": {},
     "output_type": "execute_result"
    }
   ],
   "source": [
    "df.corr()"
   ]
  },
  {
   "cell_type": "markdown",
   "id": "45bc0bf1",
   "metadata": {},
   "source": [
    "The following four variables are highly correlated with other four variables in the dataset:\n",
    "\n",
    "1. total_day_charge\n",
    "2. total_eve_charge\n",
    "3. total_night_charge\n",
    "4. total_intl_charge\n",
    "We will drop them."
   ]
  },
  {
   "cell_type": "markdown",
   "id": "47ecfe3f",
   "metadata": {},
   "source": [
    "My action is based of the following rule: \"when you have two independent variables that are very highly correlated, you definitely should remove one of them because you run into the multicollinearity conundrum and your regression model's regression coefficients related to the two highly correlated variables will be unreliable\"."
   ]
  },
  {
   "cell_type": "code",
   "execution_count": 28,
   "id": "2cdcbbc7",
   "metadata": {},
   "outputs": [],
   "source": [
    "df = df.drop(['total_day_charge','total_eve_charge','total_night_charge','total_intl_charge'], axis = 1)"
   ]
  },
  {
   "cell_type": "markdown",
   "id": "054c3747",
   "metadata": {},
   "source": [
    "Let's see the columns which are left:"
   ]
  },
  {
   "cell_type": "code",
   "execution_count": 29,
   "id": "ecafd1ad",
   "metadata": {},
   "outputs": [
    {
     "data": {
      "text/plain": [
       "Index(['account_length', 'intl_plan', 'voice_mail_plan',\n",
       "       'number_vmail_messages', 'total_day_minutes', 'total_day_calls',\n",
       "       'total_eve_minutes', 'total_eve_calls', 'total_night_minutes',\n",
       "       'total_night_calls', 'total_intl_minutes', 'total_intl_calls',\n",
       "       'number_customer_service_calls', 'churned'],\n",
       "      dtype='object')"
      ]
     },
     "execution_count": 29,
     "metadata": {},
     "output_type": "execute_result"
    }
   ],
   "source": [
    "df.columns"
   ]
  },
  {
   "cell_type": "code",
   "execution_count": 30,
   "id": "a285fc14",
   "metadata": {},
   "outputs": [
    {
     "data": {
      "text/html": [
       "<div>\n",
       "<style scoped>\n",
       "    .dataframe tbody tr th:only-of-type {\n",
       "        vertical-align: middle;\n",
       "    }\n",
       "\n",
       "    .dataframe tbody tr th {\n",
       "        vertical-align: top;\n",
       "    }\n",
       "\n",
       "    .dataframe thead th {\n",
       "        text-align: right;\n",
       "    }\n",
       "</style>\n",
       "<table border=\"1\" class=\"dataframe\">\n",
       "  <thead>\n",
       "    <tr style=\"text-align: right;\">\n",
       "      <th></th>\n",
       "      <th>account_length</th>\n",
       "      <th>intl_plan</th>\n",
       "      <th>voice_mail_plan</th>\n",
       "      <th>number_vmail_messages</th>\n",
       "      <th>total_day_minutes</th>\n",
       "      <th>total_day_calls</th>\n",
       "      <th>total_eve_minutes</th>\n",
       "      <th>total_eve_calls</th>\n",
       "      <th>total_night_minutes</th>\n",
       "      <th>total_night_calls</th>\n",
       "      <th>total_intl_minutes</th>\n",
       "      <th>total_intl_calls</th>\n",
       "      <th>number_customer_service_calls</th>\n",
       "      <th>churned</th>\n",
       "    </tr>\n",
       "  </thead>\n",
       "  <tbody>\n",
       "    <tr>\n",
       "      <th>0</th>\n",
       "      <td>128</td>\n",
       "      <td>0.0</td>\n",
       "      <td>1.0</td>\n",
       "      <td>25</td>\n",
       "      <td>265.1</td>\n",
       "      <td>110</td>\n",
       "      <td>197.4</td>\n",
       "      <td>99</td>\n",
       "      <td>244.7</td>\n",
       "      <td>91</td>\n",
       "      <td>10.0</td>\n",
       "      <td>3</td>\n",
       "      <td>1</td>\n",
       "      <td>0.0</td>\n",
       "    </tr>\n",
       "    <tr>\n",
       "      <th>1</th>\n",
       "      <td>107</td>\n",
       "      <td>0.0</td>\n",
       "      <td>1.0</td>\n",
       "      <td>26</td>\n",
       "      <td>161.6</td>\n",
       "      <td>123</td>\n",
       "      <td>195.5</td>\n",
       "      <td>103</td>\n",
       "      <td>254.4</td>\n",
       "      <td>103</td>\n",
       "      <td>13.7</td>\n",
       "      <td>3</td>\n",
       "      <td>1</td>\n",
       "      <td>0.0</td>\n",
       "    </tr>\n",
       "    <tr>\n",
       "      <th>2</th>\n",
       "      <td>137</td>\n",
       "      <td>0.0</td>\n",
       "      <td>0.0</td>\n",
       "      <td>0</td>\n",
       "      <td>243.4</td>\n",
       "      <td>114</td>\n",
       "      <td>121.2</td>\n",
       "      <td>110</td>\n",
       "      <td>162.6</td>\n",
       "      <td>104</td>\n",
       "      <td>12.2</td>\n",
       "      <td>5</td>\n",
       "      <td>0</td>\n",
       "      <td>0.0</td>\n",
       "    </tr>\n",
       "    <tr>\n",
       "      <th>3</th>\n",
       "      <td>84</td>\n",
       "      <td>1.0</td>\n",
       "      <td>0.0</td>\n",
       "      <td>0</td>\n",
       "      <td>299.4</td>\n",
       "      <td>71</td>\n",
       "      <td>61.9</td>\n",
       "      <td>88</td>\n",
       "      <td>196.9</td>\n",
       "      <td>89</td>\n",
       "      <td>6.6</td>\n",
       "      <td>7</td>\n",
       "      <td>2</td>\n",
       "      <td>0.0</td>\n",
       "    </tr>\n",
       "    <tr>\n",
       "      <th>4</th>\n",
       "      <td>75</td>\n",
       "      <td>1.0</td>\n",
       "      <td>0.0</td>\n",
       "      <td>0</td>\n",
       "      <td>166.7</td>\n",
       "      <td>113</td>\n",
       "      <td>148.3</td>\n",
       "      <td>122</td>\n",
       "      <td>186.9</td>\n",
       "      <td>121</td>\n",
       "      <td>10.1</td>\n",
       "      <td>3</td>\n",
       "      <td>3</td>\n",
       "      <td>0.0</td>\n",
       "    </tr>\n",
       "  </tbody>\n",
       "</table>\n",
       "</div>"
      ],
      "text/plain": [
       "   account_length  intl_plan  voice_mail_plan  number_vmail_messages  \\\n",
       "0             128        0.0              1.0                     25   \n",
       "1             107        0.0              1.0                     26   \n",
       "2             137        0.0              0.0                      0   \n",
       "3              84        1.0              0.0                      0   \n",
       "4              75        1.0              0.0                      0   \n",
       "\n",
       "   total_day_minutes  total_day_calls  total_eve_minutes  total_eve_calls  \\\n",
       "0              265.1              110              197.4               99   \n",
       "1              161.6              123              195.5              103   \n",
       "2              243.4              114              121.2              110   \n",
       "3              299.4               71               61.9               88   \n",
       "4              166.7              113              148.3              122   \n",
       "\n",
       "   total_night_minutes  total_night_calls  total_intl_minutes  \\\n",
       "0                244.7                 91                10.0   \n",
       "1                254.4                103                13.7   \n",
       "2                162.6                104                12.2   \n",
       "3                196.9                 89                 6.6   \n",
       "4                186.9                121                10.1   \n",
       "\n",
       "   total_intl_calls  number_customer_service_calls  churned  \n",
       "0                 3                              1      0.0  \n",
       "1                 3                              1      0.0  \n",
       "2                 5                              0      0.0  \n",
       "3                 7                              2      0.0  \n",
       "4                 3                              3      0.0  "
      ]
     },
     "execution_count": 30,
     "metadata": {},
     "output_type": "execute_result"
    }
   ],
   "source": [
    "df.head()"
   ]
  },
  {
   "cell_type": "code",
   "execution_count": 32,
   "id": "ccb5d82f",
   "metadata": {},
   "outputs": [
    {
     "data": {
      "text/plain": [
       "48"
      ]
     },
     "execution_count": 32,
     "metadata": {},
     "output_type": "execute_result"
    }
   ],
   "source": [
    "df[\"number_vmail_messages\"].nunique()"
   ]
  },
  {
   "cell_type": "code",
   "execution_count": 33,
   "id": "5948c02d",
   "metadata": {},
   "outputs": [
    {
     "data": {
      "text/plain": [
       "5000"
      ]
     },
     "execution_count": 33,
     "metadata": {},
     "output_type": "execute_result"
    }
   ],
   "source": [
    "df.number_vmail_messages.count()"
   ]
  },
  {
   "cell_type": "markdown",
   "id": "3dc5515b",
   "metadata": {},
   "source": [
    "The distribution of the number_vmail_messages variable is not normal or symetric. Most of the clients had zero values for this variable and some of them had non-zero values. The number of unique values is only 48 out of 5000."
   ]
  },
  {
   "cell_type": "code",
   "execution_count": 34,
   "id": "870a0083",
   "metadata": {},
   "outputs": [
    {
     "data": {
      "image/png": "[encoded data removed]",
      "text/plain": [
       "<Figure size 432x288 with 1 Axes>"
      ]
     },
     "metadata": {
      "needs_background": "light"
     },
     "output_type": "display_data"
    }
   ],
   "source": [
    "ax = df.number_vmail_messages.plot.hist()"
   ]
  },
  {
   "cell_type": "code",
   "execution_count": 80,
   "id": "ce2e2d89",
   "metadata": {},
   "outputs": [
    {
     "data": {
      "text/html": [
       "<div>\n",
       "<style scoped>\n",
       "    .dataframe tbody tr th:only-of-type {\n",
       "        vertical-align: middle;\n",
       "    }\n",
       "\n",
       "    .dataframe tbody tr th {\n",
       "        vertical-align: top;\n",
       "    }\n",
       "\n",
       "    .dataframe thead th {\n",
       "        text-align: right;\n",
       "    }\n",
       "</style>\n",
       "<table border=\"1\" class=\"dataframe\">\n",
       "  <thead>\n",
       "    <tr style=\"text-align: right;\">\n",
       "      <th></th>\n",
       "      <th>account_length</th>\n",
       "      <th>intl_plan</th>\n",
       "      <th>voice_mail_plan</th>\n",
       "      <th>number_vmail_messages</th>\n",
       "      <th>total_day_minutes</th>\n",
       "      <th>total_day_calls</th>\n",
       "      <th>total_eve_minutes</th>\n",
       "      <th>total_eve_calls</th>\n",
       "      <th>total_night_minutes</th>\n",
       "      <th>total_night_calls</th>\n",
       "      <th>total_intl_minutes</th>\n",
       "      <th>total_intl_calls</th>\n",
       "      <th>number_customer_service_calls</th>\n",
       "      <th>churned</th>\n",
       "    </tr>\n",
       "  </thead>\n",
       "  <tbody>\n",
       "    <tr>\n",
       "      <th>0</th>\n",
       "      <td>128</td>\n",
       "      <td>0.0</td>\n",
       "      <td>1.0</td>\n",
       "      <td>1</td>\n",
       "      <td>265.1</td>\n",
       "      <td>110</td>\n",
       "      <td>197.4</td>\n",
       "      <td>99</td>\n",
       "      <td>244.7</td>\n",
       "      <td>91</td>\n",
       "      <td>10.0</td>\n",
       "      <td>3</td>\n",
       "      <td>1</td>\n",
       "      <td>0.0</td>\n",
       "    </tr>\n",
       "    <tr>\n",
       "      <th>1</th>\n",
       "      <td>107</td>\n",
       "      <td>0.0</td>\n",
       "      <td>1.0</td>\n",
       "      <td>1</td>\n",
       "      <td>161.6</td>\n",
       "      <td>123</td>\n",
       "      <td>195.5</td>\n",
       "      <td>103</td>\n",
       "      <td>254.4</td>\n",
       "      <td>103</td>\n",
       "      <td>13.7</td>\n",
       "      <td>3</td>\n",
       "      <td>1</td>\n",
       "      <td>0.0</td>\n",
       "    </tr>\n",
       "    <tr>\n",
       "      <th>2</th>\n",
       "      <td>137</td>\n",
       "      <td>0.0</td>\n",
       "      <td>0.0</td>\n",
       "      <td>0</td>\n",
       "      <td>243.4</td>\n",
       "      <td>114</td>\n",
       "      <td>121.2</td>\n",
       "      <td>110</td>\n",
       "      <td>162.6</td>\n",
       "      <td>104</td>\n",
       "      <td>12.2</td>\n",
       "      <td>5</td>\n",
       "      <td>0</td>\n",
       "      <td>0.0</td>\n",
       "    </tr>\n",
       "    <tr>\n",
       "      <th>3</th>\n",
       "      <td>84</td>\n",
       "      <td>1.0</td>\n",
       "      <td>0.0</td>\n",
       "      <td>0</td>\n",
       "      <td>299.4</td>\n",
       "      <td>71</td>\n",
       "      <td>61.9</td>\n",
       "      <td>88</td>\n",
       "      <td>196.9</td>\n",
       "      <td>89</td>\n",
       "      <td>6.6</td>\n",
       "      <td>7</td>\n",
       "      <td>2</td>\n",
       "      <td>0.0</td>\n",
       "    </tr>\n",
       "    <tr>\n",
       "      <th>4</th>\n",
       "      <td>75</td>\n",
       "      <td>1.0</td>\n",
       "      <td>0.0</td>\n",
       "      <td>0</td>\n",
       "      <td>166.7</td>\n",
       "      <td>113</td>\n",
       "      <td>148.3</td>\n",
       "      <td>122</td>\n",
       "      <td>186.9</td>\n",
       "      <td>121</td>\n",
       "      <td>10.1</td>\n",
       "      <td>3</td>\n",
       "      <td>3</td>\n",
       "      <td>0.0</td>\n",
       "    </tr>\n",
       "  </tbody>\n",
       "</table>\n",
       "</div>"
      ],
      "text/plain": [
       "   account_length  intl_plan  voice_mail_plan  number_vmail_messages  \\\n",
       "0             128        0.0              1.0                      1   \n",
       "1             107        0.0              1.0                      1   \n",
       "2             137        0.0              0.0                      0   \n",
       "3              84        1.0              0.0                      0   \n",
       "4              75        1.0              0.0                      0   \n",
       "\n",
       "   total_day_minutes  total_day_calls  total_eve_minutes  total_eve_calls  \\\n",
       "0              265.1              110              197.4               99   \n",
       "1              161.6              123              195.5              103   \n",
       "2              243.4              114              121.2              110   \n",
       "3              299.4               71               61.9               88   \n",
       "4              166.7              113              148.3              122   \n",
       "\n",
       "   total_night_minutes  total_night_calls  total_intl_minutes  \\\n",
       "0                244.7                 91                10.0   \n",
       "1                254.4                103                13.7   \n",
       "2                162.6                104                12.2   \n",
       "3                196.9                 89                 6.6   \n",
       "4                186.9                121                10.1   \n",
       "\n",
       "   total_intl_calls  number_customer_service_calls  churned  \n",
       "0                 3                              1      0.0  \n",
       "1                 3                              1      0.0  \n",
       "2                 5                              0      0.0  \n",
       "3                 7                              2      0.0  \n",
       "4                 3                              3      0.0  "
      ]
     },
     "execution_count": 80,
     "metadata": {},
     "output_type": "execute_result"
    }
   ],
   "source": [
    "df.head()"
   ]
  },
  {
   "cell_type": "code",
   "execution_count": 35,
   "id": "8d260d67",
   "metadata": {},
   "outputs": [
    {
     "data": {
      "text/plain": [
       "<AxesSubplot:ylabel='Frequency'>"
      ]
     },
     "execution_count": 35,
     "metadata": {},
     "output_type": "execute_result"
    },
    {
     "data": {
      "image/png": "[encoded data removed]",
      "text/plain": [
       "<Figure size 432x288 with 1 Axes>"
      ]
     },
     "metadata": {
      "needs_background": "light"
     },
     "output_type": "display_data"
    }
   ],
   "source": [
    "df.account_length.plot.hist(bins=50)"
   ]
  },
  {
   "cell_type": "code",
   "execution_count": 36,
   "id": "5d75d98c",
   "metadata": {},
   "outputs": [
    {
     "data": {
      "text/plain": [
       "<AxesSubplot:ylabel='Frequency'>"
      ]
     },
     "execution_count": 36,
     "metadata": {},
     "output_type": "execute_result"
    },
    {
     "data": {
      "image/png": "[encoded data removed]",
      "text/plain": [
       "<Figure size 432x288 with 1 Axes>"
      ]
     },
     "metadata": {
      "needs_background": "light"
     },
     "output_type": "display_data"
    }
   ],
   "source": [
    "df.total_day_minutes.plot.hist(bins=20)"
   ]
  },
  {
   "cell_type": "code",
   "execution_count": 37,
   "id": "40e77d7d",
   "metadata": {},
   "outputs": [
    {
     "data": {
      "text/plain": [
       "<AxesSubplot:ylabel='Frequency'>"
      ]
     },
     "execution_count": 37,
     "metadata": {},
     "output_type": "execute_result"
    },
    {
     "data": {
      "image/png": "[encoded data removed]",
      "text/plain": [
       "<Figure size 432x288 with 1 Axes>"
      ]
     },
     "metadata": {
      "needs_background": "light"
     },
     "output_type": "display_data"
    }
   ],
   "source": [
    "df.total_day_calls.plot.hist(bins=20)"
   ]
  },
  {
   "cell_type": "code",
   "execution_count": 38,
   "id": "bff8fa11",
   "metadata": {},
   "outputs": [
    {
     "data": {
      "text/plain": [
       "<AxesSubplot:ylabel='Frequency'>"
      ]
     },
     "execution_count": 38,
     "metadata": {},
     "output_type": "execute_result"
    },
    {
     "data": {
      "image/png": "[encoded data removed]",
      "text/plain": [
       "<Figure size 432x288 with 1 Axes>"
      ]
     },
     "metadata": {
      "needs_background": "light"
     },
     "output_type": "display_data"
    }
   ],
   "source": [
    "df.total_eve_minutes.plot.hist(bins=20)"
   ]
  },
  {
   "cell_type": "code",
   "execution_count": 39,
   "id": "c6acb135",
   "metadata": {},
   "outputs": [
    {
     "data": {
      "text/plain": [
       "<AxesSubplot:ylabel='Frequency'>"
      ]
     },
     "execution_count": 39,
     "metadata": {},
     "output_type": "execute_result"
    },
    {
     "data": {
      "image/png": "[encoded data removed]",
      "text/plain": [
       "<Figure size 432x288 with 1 Axes>"
      ]
     },
     "metadata": {
      "needs_background": "light"
     },
     "output_type": "display_data"
    }
   ],
   "source": [
    "df.total_eve_calls.plot.hist(bins=20)"
   ]
  },
  {
   "cell_type": "code",
   "execution_count": 40,
   "id": "af8a694c",
   "metadata": {},
   "outputs": [
    {
     "data": {
      "text/plain": [
       "<AxesSubplot:ylabel='Frequency'>"
      ]
     },
     "execution_count": 40,
     "metadata": {},
     "output_type": "execute_result"
    },
    {
     "data": {
      "image/png": "[encoded data removed]",
      "text/plain": [
       "<Figure size 432x288 with 1 Axes>"
      ]
     },
     "metadata": {
      "needs_background": "light"
     },
     "output_type": "display_data"
    }
   ],
   "source": [
    "df.total_night_minutes.plot.hist(bins=20)"
   ]
  },
  {
   "cell_type": "code",
   "execution_count": 41,
   "id": "1ef1e0d7",
   "metadata": {},
   "outputs": [
    {
     "data": {
      "text/plain": [
       "<AxesSubplot:ylabel='Frequency'>"
      ]
     },
     "execution_count": 41,
     "metadata": {},
     "output_type": "execute_result"
    },
    {
     "data": {
      "image/png": "[encoded data removed]",
      "text/plain": [
       "<Figure size 432x288 with 1 Axes>"
      ]
     },
     "metadata": {
      "needs_background": "light"
     },
     "output_type": "display_data"
    }
   ],
   "source": [
    "df.total_night_calls.plot.hist(bins=20)"
   ]
  },
  {
   "cell_type": "code",
   "execution_count": 42,
   "id": "12c7c97d",
   "metadata": {},
   "outputs": [
    {
     "data": {
      "text/plain": [
       "<AxesSubplot:ylabel='Frequency'>"
      ]
     },
     "execution_count": 42,
     "metadata": {},
     "output_type": "execute_result"
    },
    {
     "data": {
      "image/png": "[encoded data removed]",
      "text/plain": [
       "<Figure size 432x288 with 1 Axes>"
      ]
     },
     "metadata": {
      "needs_background": "light"
     },
     "output_type": "display_data"
    }
   ],
   "source": [
    "df.total_intl_minutes.plot.hist(bins=20)"
   ]
  },
  {
   "cell_type": "code",
   "execution_count": 43,
   "id": "7a377afa",
   "metadata": {},
   "outputs": [
    {
     "data": {
      "text/plain": [
       "<AxesSubplot:ylabel='Frequency'>"
      ]
     },
     "execution_count": 43,
     "metadata": {},
     "output_type": "execute_result"
    },
    {
     "data": {
      "image/png": "[encoded data removed]",
      "text/plain": [
       "<Figure size 432x288 with 1 Axes>"
      ]
     },
     "metadata": {
      "needs_background": "light"
     },
     "output_type": "display_data"
    }
   ],
   "source": [
    "df.total_intl_calls.plot.hist(bins=20)"
   ]
  },
  {
   "cell_type": "code",
   "execution_count": 44,
   "id": "4e0b25ba",
   "metadata": {
    "scrolled": true
   },
   "outputs": [
    {
     "data": {
      "text/plain": [
       "<AxesSubplot:ylabel='Frequency'>"
      ]
     },
     "execution_count": 44,
     "metadata": {},
     "output_type": "execute_result"
    },
    {
     "data": {
      "image/png": "[encoded data removed]",
      "text/plain": [
       "<Figure size 432x288 with 1 Axes>"
      ]
     },
     "metadata": {
      "needs_background": "light"
     },
     "output_type": "display_data"
    }
   ],
   "source": [
    "df.number_customer_service_calls.plot.hist(bins=20)"
   ]
  },
  {
   "cell_type": "markdown",
   "id": "bc9ed90d",
   "metadata": {},
   "source": [
    "All the continuous variables have symetric distributions, except the last two (i.e., total_intl_calls and number_customer_service_calls). It seems like I do not need to transform any of the continuous variables except standardizing them."
   ]
  },
  {
   "cell_type": "markdown",
   "id": "897ae779",
   "metadata": {},
   "source": [
    "Let us see the frequency distributions of the categorical variables."
   ]
  },
  {
   "cell_type": "code",
   "execution_count": 46,
   "id": "bc918730",
   "metadata": {},
   "outputs": [
    {
     "name": "stdout",
     "output_type": "stream",
     "text": [
      "column name: voice_mail_plan\n",
      "0.0    3677\n",
      "1.0    1323\n",
      "Name: voice_mail_plan, dtype: int64\n",
      "\n",
      "column name: number_vmail_messages\n",
      "0     3678\n",
      "31      83\n",
      "28      67\n",
      "29      67\n",
      "33      66\n",
      "24      64\n",
      "27      64\n",
      "30      58\n",
      "26      58\n",
      "32      57\n",
      "23      52\n",
      "25      51\n",
      "22      47\n",
      "36      45\n",
      "37      43\n",
      "39      42\n",
      "34      41\n",
      "35      41\n",
      "21      41\n",
      "38      41\n",
      "20      32\n",
      "40      28\n",
      "19      27\n",
      "41      22\n",
      "17      21\n",
      "42      19\n",
      "18      18\n",
      "16      17\n",
      "43      16\n",
      "15      13\n",
      "45      11\n",
      "12      11\n",
      "14       9\n",
      "44       9\n",
      "46       8\n",
      "48       5\n",
      "13       4\n",
      "47       4\n",
      "10       4\n",
      "49       3\n",
      "6        2\n",
      "9        2\n",
      "50       2\n",
      "11       2\n",
      "8        2\n",
      "4        1\n",
      "51       1\n",
      "52       1\n",
      "Name: number_vmail_messages, dtype: int64\n",
      "\n",
      "column name: churned\n",
      "0.0    4293\n",
      "1.0     707\n",
      "Name: churned, dtype: int64\n",
      "\n"
     ]
    }
   ],
   "source": [
    "for col in ['voice_mail_plan', 'number_vmail_messages', 'churned']:\n",
    "    print('column name: {}\\n{}\\n'.format(col, df[col].value_counts()))"
   ]
  },
  {
   "cell_type": "markdown",
   "id": "4756e3d0",
   "metadata": {},
   "source": [
    "All looks good. But, the dataset is unbalanced. There are 707 positive cases and 4293 negative cases. If I train the dataset as is, it will be trained based on negative values. In that case, I will probably have high accuracy, but I may have lower recall or precision. Therefore, I will train the dataset in two different ways. First, I will use the entire dataset and see what I get. Then, I will oversample the positive cases and train the data again."
   ]
  },
  {
   "cell_type": "markdown",
   "id": "f3873eec",
   "metadata": {},
   "source": [
    "### Run three algorithms using unbalanced dataset"
   ]
  },
  {
   "cell_type": "code",
   "execution_count": 47,
   "id": "2ea168d5",
   "metadata": {},
   "outputs": [],
   "source": [
    "# Create the input and output matrices, split them into train and test\n",
    "df_ = df.values\n",
    "X = np.array(df_[:,:-1])\n",
    "y = np.array(df_[:,-1])\n",
    "X_train, X_test, y_train, y_test = train_test_split(X, y)"
   ]
  },
  {
   "cell_type": "code",
   "execution_count": 48,
   "id": "6fd33597",
   "metadata": {},
   "outputs": [],
   "source": [
    "# Scale the input variables using the standard scaler\n",
    "scaler = StandardScaler()\n",
    "X_train_scaled = scaler.fit_transform(X_train)\n",
    "X_test_scaled = scaler.transform(X_test)"
   ]
  },
  {
   "cell_type": "markdown",
   "id": "882c5e74",
   "metadata": {},
   "source": [
    "**Logistic Regression**"
   ]
  },
  {
   "cell_type": "code",
   "execution_count": 49,
   "id": "ada15d91",
   "metadata": {},
   "outputs": [
    {
     "data": {
      "text/plain": [
       "LogisticRegression()"
      ]
     },
     "execution_count": 49,
     "metadata": {},
     "output_type": "execute_result"
    }
   ],
   "source": [
    "# Fit a logistic regression model using the train set\n",
    "logreg = LogisticRegression(solver = 'lbfgs')\n",
    "logreg.fit(X_train_scaled, y_train)"
   ]
  },
  {
   "cell_type": "code",
   "execution_count": 50,
   "id": "1751e686",
   "metadata": {},
   "outputs": [
    {
     "data": {
      "text/plain": [
       "0.8744"
      ]
     },
     "execution_count": 50,
     "metadata": {},
     "output_type": "execute_result"
    }
   ],
   "source": [
    "# See the score (accuracy)\n",
    "logreg.score(X_test_scaled, y_test.astype('int'))"
   ]
  },
  {
   "cell_type": "code",
   "execution_count": 51,
   "id": "3c442189",
   "metadata": {},
   "outputs": [
    {
     "data": {
      "text/plain": [
       "(0.8594666666666667, 0.010736438474238616)"
      ]
     },
     "execution_count": 51,
     "metadata": {},
     "output_type": "execute_result"
    }
   ],
   "source": [
    "cvs = cross_val_score(LogisticRegression(), X_train_scaled, y_train, cv = 10)\n",
    "np.mean(cvs), np.std(cvs)"
   ]
  },
  {
   "cell_type": "code",
   "execution_count": 52,
   "id": "3c50c95c",
   "metadata": {},
   "outputs": [
    {
     "name": "stdout",
     "output_type": "stream",
     "text": [
      "recall: 0.23214285714285715\n",
      "precision: 0.582089552238806\n"
     ]
    }
   ],
   "source": [
    "\n",
    "# Create a confusion matrix and see precision and recall\n",
    "cm = confusion_matrix(y_test, logreg.predict(X_test_scaled))\n",
    "print('recall: {}'.format(cm[1,1] / sum(cm[1])))\n",
    "print('precision: {}'.format(cm[1,1] / (cm[0,1] + cm[1,1])))"
   ]
  },
  {
   "cell_type": "markdown",
   "id": "5bea79b1",
   "metadata": {},
   "source": [
    "In the first run (see above), although accuracy is high, recall and precision are very low."
   ]
  },
  {
   "cell_type": "markdown",
   "id": "1a73454c",
   "metadata": {},
   "source": [
    "**Voting Classifier: Logistic regression + decision tree**"
   ]
  },
  {
   "cell_type": "code",
   "execution_count": 56,
   "id": "5571c4e0",
   "metadata": {},
   "outputs": [
    {
     "data": {
      "text/plain": [
       "VotingClassifier(estimators=[('logreg', LogisticRegression(C=100)),\n",
       "                             ('tree', DecisionTreeClassifier(max_depth=3))],\n",
       "                 flatten_transform=False, voting='soft')"
      ]
     },
     "execution_count": 56,
     "metadata": {},
     "output_type": "execute_result"
    }
   ],
   "source": [
    "from sklearn.ensemble import VotingClassifier\n",
    "# Use an ensemble model and see if anything changes\n",
    "# Create the model and fit\n",
    "voting = VotingClassifier([('logreg', LogisticRegression(C=100, solver='lbfgs')),\n",
    "                          ('tree', DecisionTreeClassifier(max_depth=3))], voting = 'soft', flatten_transform=False)\n",
    "voting.fit(X_train_scaled, y_train)"
   ]
  },
  {
   "cell_type": "code",
   "execution_count": 57,
   "id": "8ca755eb",
   "metadata": {},
   "outputs": [
    {
     "data": {
      "text/plain": [
       "0.9104"
      ]
     },
     "execution_count": 57,
     "metadata": {},
     "output_type": "execute_result"
    }
   ],
   "source": [
    "# See the score (accuracy)\n",
    "voting.score(X_test_scaled, y_test)"
   ]
  },
  {
   "cell_type": "code",
   "execution_count": 58,
   "id": "7c2f37c7",
   "metadata": {},
   "outputs": [
    {
     "data": {
      "text/plain": [
       "(0.8981333333333332, 0.010034606785187607)"
      ]
     },
     "execution_count": 58,
     "metadata": {},
     "output_type": "execute_result"
    }
   ],
   "source": [
    "cvs = cross_val_score(\n",
    "    VotingClassifier([('logreg', LogisticRegression(C=100, solver='lbfgs')),\n",
    "                      ('tree', DecisionTreeClassifier(max_depth=3))], voting = 'soft', flatten_transform=False),\n",
    "                    X_train_scaled, y_train, cv = 10)\n",
    "np.mean(cvs), np.std(cvs)"
   ]
  },
  {
   "cell_type": "code",
   "execution_count": 59,
   "id": "53ba0f65",
   "metadata": {},
   "outputs": [
    {
     "name": "stdout",
     "output_type": "stream",
     "text": [
      "recall: 0.42857142857142855\n",
      "precision: 0.8181818181818182\n"
     ]
    }
   ],
   "source": [
    "# Create a confusion matrix and see precision and recall\n",
    "cm = confusion_matrix(y_test, voting.predict(X_test_scaled))\n",
    "print('recall: {}'.format(cm[1,1] / sum(cm[1])))\n",
    "print('precision: {}'.format(cm[1,1] / (cm[0,1] + cm[1,1])))"
   ]
  },
  {
   "cell_type": "markdown",
   "id": "7c279d2f",
   "metadata": {},
   "source": [
    "Again, the accuracy is high. Precision is also better. But recall is still too low."
   ]
  },
  {
   "cell_type": "markdown",
   "id": "f16efa23",
   "metadata": {},
   "source": [
    "**Random Forest**"
   ]
  },
  {
   "cell_type": "code",
   "execution_count": 61,
   "id": "2e66352d",
   "metadata": {},
   "outputs": [
    {
     "data": {
      "text/plain": [
       "RandomForestClassifier(n_estimators=10, warm_start=True)"
      ]
     },
     "execution_count": 61,
     "metadata": {},
     "output_type": "execute_result"
    }
   ],
   "source": [
    "# Let us try another ensemble model, random forest.\n",
    "rf = RandomForestClassifier(n_estimators = 10, warm_start=True)\n",
    "rf.fit(X_train_scaled, y_train)"
   ]
  },
  {
   "cell_type": "code",
   "execution_count": 62,
   "id": "5c93988b",
   "metadata": {},
   "outputs": [
    {
     "data": {
      "text/plain": [
       "0.952"
      ]
     },
     "execution_count": 62,
     "metadata": {},
     "output_type": "execute_result"
    }
   ],
   "source": [
    "rf.score(X_test_scaled, y_test)"
   ]
  },
  {
   "cell_type": "code",
   "execution_count": 63,
   "id": "6661ceb0",
   "metadata": {},
   "outputs": [
    {
     "data": {
      "text/plain": [
       "(0.9479999999999998, 0.008369255907453452)"
      ]
     },
     "execution_count": 63,
     "metadata": {},
     "output_type": "execute_result"
    }
   ],
   "source": [
    "cvs = cross_val_score(RandomForestClassifier(), X_train_scaled, y_train, cv = 10)\n",
    "np.mean(cvs), np.std(cvs)"
   ]
  },
  {
   "cell_type": "code",
   "execution_count": 65,
   "id": "e73f7b73",
   "metadata": {},
   "outputs": [
    {
     "name": "stdout",
     "output_type": "stream",
     "text": [
      "recall: 0.7083333333333334\n",
      "precision: 0.9153846153846154\n"
     ]
    }
   ],
   "source": [
    "# Create a confusion matrix and see precision and recall\n",
    "cm = confusion_matrix(y_test, rf.predict(X_test_scaled))\n",
    "print('recall: {}'.format(cm[1,1] / sum(cm[1])))\n",
    "print('precision: {}'.format(cm[1,1] / (cm[0,1] + cm[1,1])))"
   ]
  },
  {
   "cell_type": "markdown",
   "id": "e4c8c2f1",
   "metadata": {},
   "source": [
    "Here both recall and precision are high."
   ]
  },
  {
   "cell_type": "markdown",
   "id": "64656ad5",
   "metadata": {},
   "source": [
    "### Run three algorithms using balanced dataset"
   ]
  },
  {
   "cell_type": "markdown",
   "id": "ef6707d9",
   "metadata": {},
   "source": [
    "Here I will make a balanced dataset and train that dataset.\n",
    "\n",
    "The next cell creates the balanced dataset. Here is how I do that. First, I select all positive cases. Then, I select a sample from the negative cases, and this sample's size is the same as the number of positive cases in the entire dataset."
   ]
  },
  {
   "cell_type": "code",
   "execution_count": 66,
   "id": "232e8f13",
   "metadata": {},
   "outputs": [],
   "source": [
    "dff = df.loc[df.churned == 0]\n",
    "dft = df.loc[df.churned == 1]\n",
    "df_ = pd.concat([dft, dff.sample(dft.shape[0])])\n",
    "df_ = df_.values"
   ]
  },
  {
   "cell_type": "code",
   "execution_count": 67,
   "id": "1d8b2de5",
   "metadata": {},
   "outputs": [],
   "source": [
    "X = np.array(df_[:,:-1])\n",
    "y = np.array(df_[:,-1])\n",
    "X_train, X_test, y_train, y_test = train_test_split(X, y)"
   ]
  },
  {
   "cell_type": "code",
   "execution_count": 69,
   "id": "f71e6bf8",
   "metadata": {},
   "outputs": [],
   "source": [
    "scaler = StandardScaler()\n",
    "X_train_scaled = scaler.fit_transform(X_train)\n",
    "X_test_scaled = scaler.transform(X_test)"
   ]
  },
  {
   "cell_type": "code",
   "execution_count": 70,
   "id": "d34cacb6",
   "metadata": {},
   "outputs": [],
   "source": [
    "y_train = y_train.astype('int')"
   ]
  },
  {
   "cell_type": "markdown",
   "id": "ae56e724",
   "metadata": {},
   "source": [
    "**Logistic regression**"
   ]
  },
  {
   "cell_type": "code",
   "execution_count": 71,
   "id": "5d883987",
   "metadata": {},
   "outputs": [
    {
     "data": {
      "text/plain": [
       "LogisticRegression()"
      ]
     },
     "execution_count": 71,
     "metadata": {},
     "output_type": "execute_result"
    }
   ],
   "source": [
    "logreg = LogisticRegression(solver = 'lbfgs')\n",
    "logreg.fit(X_train_scaled, y_train)"
   ]
  },
  {
   "cell_type": "code",
   "execution_count": 72,
   "id": "0c9a336f",
   "metadata": {},
   "outputs": [
    {
     "data": {
      "text/plain": [
       "0.7909604519774012"
      ]
     },
     "execution_count": 72,
     "metadata": {},
     "output_type": "execute_result"
    }
   ],
   "source": [
    "logreg.score(X_test_scaled, y_test.astype('int'))"
   ]
  },
  {
   "cell_type": "code",
   "execution_count": 73,
   "id": "5a271094",
   "metadata": {},
   "outputs": [
    {
     "data": {
      "text/plain": [
       "(0.7726415094339623, 0.04143432312452408)"
      ]
     },
     "execution_count": 73,
     "metadata": {},
     "output_type": "execute_result"
    }
   ],
   "source": [
    "cvs = cross_val_score(LogisticRegression(), X_train_scaled, y_train, cv = 10)\n",
    "np.mean(cvs), np.std(cvs)"
   ]
  },
  {
   "cell_type": "code",
   "execution_count": 74,
   "id": "c5b28edf",
   "metadata": {},
   "outputs": [
    {
     "name": "stdout",
     "output_type": "stream",
     "text": [
      "recall: 0.7678571428571429\n",
      "precision: 0.7865853658536586\n"
     ]
    }
   ],
   "source": [
    "cm = confusion_matrix(y_test, logreg.predict(X_test_scaled))\n",
    "print('recall: {}'.format(cm[1,1] / sum(cm[1])))\n",
    "print('precision: {}'.format(cm[1,1] / (cm[0,1] + cm[1,1])))"
   ]
  },
  {
   "cell_type": "markdown",
   "id": "bfbd4a1b",
   "metadata": {},
   "source": [
    "Both recall and precision are good but can better."
   ]
  },
  {
   "cell_type": "markdown",
   "id": "8b2c38ad",
   "metadata": {},
   "source": [
    "**Voting classifier: Logistic regression + decision tree**"
   ]
  },
  {
   "cell_type": "code",
   "execution_count": 77,
   "id": "7751b186",
   "metadata": {},
   "outputs": [],
   "source": [
    "voting = VotingClassifier([('logreg', LogisticRegression(C=100, solver='lbfgs')),\n",
    "                          ('tree', DecisionTreeClassifier(max_depth=3))], voting = 'soft', flatten_transform=False)"
   ]
  },
  {
   "cell_type": "code",
   "execution_count": 78,
   "id": "4d042dab",
   "metadata": {},
   "outputs": [
    {
     "data": {
      "text/plain": [
       "VotingClassifier(estimators=[('logreg', LogisticRegression(C=100)),\n",
       "                             ('tree', DecisionTreeClassifier(max_depth=3))],\n",
       "                 flatten_transform=False, voting='soft')"
      ]
     },
     "execution_count": 78,
     "metadata": {},
     "output_type": "execute_result"
    }
   ],
   "source": [
    "voting.fit(X_train_scaled, y_train)"
   ]
  },
  {
   "cell_type": "code",
   "execution_count": 79,
   "id": "f41b0762",
   "metadata": {},
   "outputs": [
    {
     "data": {
      "text/plain": [
       "0.8107344632768362"
      ]
     },
     "execution_count": 79,
     "metadata": {},
     "output_type": "execute_result"
    }
   ],
   "source": [
    "voting.score(X_test_scaled, y_test)"
   ]
  },
  {
   "cell_type": "code",
   "execution_count": 80,
   "id": "8b0e4ab4",
   "metadata": {},
   "outputs": [
    {
     "data": {
      "text/plain": [
       "(0.8349056603773585, 0.031359943657725764)"
      ]
     },
     "execution_count": 80,
     "metadata": {},
     "output_type": "execute_result"
    }
   ],
   "source": [
    "cvs = cross_val_score(\n",
    "    VotingClassifier([('logreg', LogisticRegression(C=100, solver='lbfgs')),\n",
    "                      ('tree', DecisionTreeClassifier(max_depth=3))], voting = 'soft', flatten_transform=False),\n",
    "                    X_train_scaled, y_train, cv = 10)\n",
    "np.mean(cvs), np.std(cvs)"
   ]
  },
  {
   "cell_type": "code",
   "execution_count": 81,
   "id": "7b30407f",
   "metadata": {},
   "outputs": [
    {
     "name": "stdout",
     "output_type": "stream",
     "text": [
      "recall: 0.7678571428571429\n",
      "precision: 0.821656050955414\n"
     ]
    }
   ],
   "source": [
    "cm = confusion_matrix(y_test, voting.predict(X_test_scaled))\n",
    "print('recall: {}'.format(cm[1,1] / sum(cm[1])))\n",
    "print('precision: {}'.format(cm[1,1] / (cm[0,1] + cm[1,1])))"
   ]
  },
  {
   "cell_type": "markdown",
   "id": "e4a73c41",
   "metadata": {},
   "source": [
    "Now they are higher "
   ]
  },
  {
   "cell_type": "markdown",
   "id": "c610cd9d",
   "metadata": {},
   "source": [
    "**Random Forest**"
   ]
  },
  {
   "cell_type": "code",
   "execution_count": 82,
   "id": "86c7c3e9",
   "metadata": {},
   "outputs": [],
   "source": [
    "rf = RandomForestClassifier(n_estimators = 10, warm_start=True)"
   ]
  },
  {
   "cell_type": "code",
   "execution_count": 83,
   "id": "3b8c75d1",
   "metadata": {},
   "outputs": [
    {
     "data": {
      "text/plain": [
       "RandomForestClassifier(n_estimators=10, warm_start=True)"
      ]
     },
     "execution_count": 83,
     "metadata": {},
     "output_type": "execute_result"
    }
   ],
   "source": [
    "rf.fit(X_train_scaled, y_train)"
   ]
  },
  {
   "cell_type": "code",
   "execution_count": 84,
   "id": "ce8529fb",
   "metadata": {},
   "outputs": [
    {
     "data": {
      "text/plain": [
       "0.8333333333333334"
      ]
     },
     "execution_count": 84,
     "metadata": {},
     "output_type": "execute_result"
    }
   ],
   "source": [
    "rf.score(X_test_scaled, y_test)"
   ]
  },
  {
   "cell_type": "code",
   "execution_count": 85,
   "id": "7d88b5f1",
   "metadata": {},
   "outputs": [
    {
     "data": {
      "text/plain": [
       "(0.8830188679245283, 0.028676762553906908)"
      ]
     },
     "execution_count": 85,
     "metadata": {},
     "output_type": "execute_result"
    }
   ],
   "source": [
    "cvs = cross_val_score(RandomForestClassifier(), X_train_scaled, y_train, cv = 10)\n",
    "np.mean(cvs), np.std(cvs)"
   ]
  },
  {
   "cell_type": "code",
   "execution_count": 86,
   "id": "10cf5f65",
   "metadata": {},
   "outputs": [
    {
     "name": "stdout",
     "output_type": "stream",
     "text": [
      "recall: 0.8035714285714286\n",
      "precision: 0.8385093167701864\n"
     ]
    }
   ],
   "source": [
    "cm = confusion_matrix(y_test, rf.predict(X_test_scaled))\n",
    "print('recall: {}'.format(cm[1,1] / sum(cm[1])))\n",
    "print('precision: {}'.format(cm[1,1] / (cm[0,1] + cm[1,1])))"
   ]
  },
  {
   "cell_type": "markdown",
   "id": "8939a0f4",
   "metadata": {},
   "source": [
    "They are both good.\n",
    "\n",
    "Among all the models that I tried above, random forest is the best model. Voting classifier is also as good as random forest. I could do some paramater tuning to improve the models. I will try that on random forest, because it is easier to do. I could adjust the debth of the trees, number of trees, and maybe the minimum size of leaves. I will try only one of these options; I will search for the optimum number of trees. For it takes a lot of time to run grid search and random forests, I will limit the number of trees between 5 and 50."
   ]
  },
  {
   "cell_type": "code",
   "execution_count": 87,
   "id": "1703ae1a",
   "metadata": {},
   "outputs": [
    {
     "data": {
      "text/plain": [
       "GridSearchCV(cv=10,\n",
       "             estimator=RandomForestClassifier(n_estimators=10, warm_start=True),\n",
       "             param_grid={'n_estimators': array([ 5, 10, 15, 20, 25, 30, 35, 40, 45])})"
      ]
     },
     "execution_count": 87,
     "metadata": {},
     "output_type": "execute_result"
    }
   ],
   "source": [
    "from sklearn.model_selection import GridSearchCV\n",
    "\n",
    "param = {'n_estimators': np.arange(5, 50, 5)}\n",
    "\n",
    "grid = GridSearchCV(rf, param_grid = param, cv = 10)\n",
    "grid.fit(X_train_scaled, y_train)"
   ]
  },
  {
   "cell_type": "code",
   "execution_count": 88,
   "id": "a9f748eb",
   "metadata": {},
   "outputs": [
    {
     "data": {
      "text/plain": [
       "0.867231638418079"
      ]
     },
     "execution_count": 88,
     "metadata": {},
     "output_type": "execute_result"
    }
   ],
   "source": [
    "grid.score(X_test_scaled, y_test)"
   ]
  },
  {
   "cell_type": "code",
   "execution_count": 89,
   "id": "dfae3806",
   "metadata": {},
   "outputs": [
    {
     "data": {
      "text/plain": [
       "45"
      ]
     },
     "execution_count": 89,
     "metadata": {},
     "output_type": "execute_result"
    }
   ],
   "source": [
    "grid.best_params_.get('n_estimators')"
   ]
  },
  {
   "cell_type": "markdown",
   "id": "3b813cd6",
   "metadata": {},
   "source": [
    "Now let us create a random forest using the optimum number of trees, and then see the precision and recall."
   ]
  },
  {
   "cell_type": "code",
   "execution_count": 90,
   "id": "5a41b4b7",
   "metadata": {},
   "outputs": [
    {
     "data": {
      "text/plain": [
       "0.8615819209039548"
      ]
     },
     "execution_count": 90,
     "metadata": {},
     "output_type": "execute_result"
    }
   ],
   "source": [
    "rf = RandomForestClassifier(n_estimators = grid.best_params_.get('n_estimators'), warm_start=True)\n",
    "rf.fit(X_train_scaled, y_train)\n",
    "rf.score(X_test_scaled, y_test)"
   ]
  },
  {
   "cell_type": "code",
   "execution_count": 92,
   "id": "5c33f9a1",
   "metadata": {},
   "outputs": [
    {
     "name": "stdout",
     "output_type": "stream",
     "text": [
      "recall: 0.8273809523809523\n",
      "precision: 0.8742138364779874\n"
     ]
    }
   ],
   "source": [
    "cm = confusion_matrix(y_test, rf.predict(X_test_scaled))\n",
    "print('recall: {}'.format(cm[1,1] / sum(cm[1])))\n",
    "print('precision: {}'.format(cm[1,1] / (cm[0,1] + cm[1,1])))"
   ]
  },
  {
   "cell_type": "code",
   "execution_count": 30,
   "id": "0093d3bf",
   "metadata": {
    "scrolled": true
   },
   "outputs": [
    {
     "name": "stdout",
     "output_type": "stream",
     "text": [
      "<class 'pandas.core.frame.DataFrame'>\n",
      "RangeIndex: 5000 entries, 0 to 4999\n",
      "Data columns (total 18 columns):\n",
      " #   Column                         Non-Null Count  Dtype  \n",
      "---  ------                         --------------  -----  \n",
      " 0   account_length                 5000 non-null   int64  \n",
      " 1   intl_plan                      5000 non-null   float64\n",
      " 2   voice_mail_plan                5000 non-null   float64\n",
      " 3   number_vmail_messages          5000 non-null   int64  \n",
      " 4   total_day_minutes              5000 non-null   float64\n",
      " 5   total_day_calls                5000 non-null   int64  \n",
      " 6   total_day_charge               5000 non-null   float64\n",
      " 7   total_eve_minutes              5000 non-null   float64\n",
      " 8   total_eve_calls                5000 non-null   int64  \n",
      " 9   total_eve_charge               5000 non-null   float64\n",
      " 10  total_night_minutes            5000 non-null   float64\n",
      " 11  total_night_calls              5000 non-null   int64  \n",
      " 12  total_night_charge             5000 non-null   float64\n",
      " 13  total_intl_minutes             5000 non-null   float64\n",
      " 14  total_intl_calls               5000 non-null   int64  \n",
      " 15  total_intl_charge              5000 non-null   float64\n",
      " 16  number_customer_service_calls  5000 non-null   int64  \n",
      " 17  churned                        5000 non-null   float64\n",
      "dtypes: float64(11), int64(7)\n",
      "memory usage: 703.2 KB\n"
     ]
    }
   ],
   "source": [
    "df.info()"
   ]
  },
  {
   "cell_type": "markdown",
   "id": "8322b327",
   "metadata": {},
   "source": [
    "**Churn Rate by Contract plan (intl_plan:)**"
   ]
  },
  {
   "cell_type": "code",
   "execution_count": 31,
   "id": "31b5cc82",
   "metadata": {},
   "outputs": [
    {
     "data": {
      "text/html": [
       "<div>\n",
       "<style scoped>\n",
       "    .dataframe tbody tr th:only-of-type {\n",
       "        vertical-align: middle;\n",
       "    }\n",
       "\n",
       "    .dataframe tbody tr th {\n",
       "        vertical-align: top;\n",
       "    }\n",
       "\n",
       "    .dataframe thead th {\n",
       "        text-align: right;\n",
       "    }\n",
       "</style>\n",
       "<table border=\"1\" class=\"dataframe\">\n",
       "  <thead>\n",
       "    <tr style=\"text-align: right;\">\n",
       "      <th></th>\n",
       "      <th>account_length</th>\n",
       "      <th>intl_plan</th>\n",
       "      <th>voice_mail_plan</th>\n",
       "      <th>number_vmail_messages</th>\n",
       "      <th>total_day_minutes</th>\n",
       "      <th>total_day_calls</th>\n",
       "      <th>total_day_charge</th>\n",
       "      <th>total_eve_minutes</th>\n",
       "      <th>total_eve_calls</th>\n",
       "      <th>total_eve_charge</th>\n",
       "      <th>total_night_minutes</th>\n",
       "      <th>total_night_calls</th>\n",
       "      <th>total_night_charge</th>\n",
       "      <th>total_intl_minutes</th>\n",
       "      <th>total_intl_calls</th>\n",
       "      <th>total_intl_charge</th>\n",
       "      <th>number_customer_service_calls</th>\n",
       "      <th>churned</th>\n",
       "    </tr>\n",
       "  </thead>\n",
       "  <tbody>\n",
       "    <tr>\n",
       "      <th>0</th>\n",
       "      <td>128</td>\n",
       "      <td>0.0</td>\n",
       "      <td>1.0</td>\n",
       "      <td>25</td>\n",
       "      <td>265.1</td>\n",
       "      <td>110</td>\n",
       "      <td>45.07</td>\n",
       "      <td>197.4</td>\n",
       "      <td>99</td>\n",
       "      <td>16.780000</td>\n",
       "      <td>244.7</td>\n",
       "      <td>91</td>\n",
       "      <td>11.01</td>\n",
       "      <td>10.0</td>\n",
       "      <td>3</td>\n",
       "      <td>2.70</td>\n",
       "      <td>1</td>\n",
       "      <td>0.0</td>\n",
       "    </tr>\n",
       "    <tr>\n",
       "      <th>1</th>\n",
       "      <td>107</td>\n",
       "      <td>0.0</td>\n",
       "      <td>1.0</td>\n",
       "      <td>26</td>\n",
       "      <td>161.6</td>\n",
       "      <td>123</td>\n",
       "      <td>27.47</td>\n",
       "      <td>195.5</td>\n",
       "      <td>103</td>\n",
       "      <td>17.052324</td>\n",
       "      <td>254.4</td>\n",
       "      <td>103</td>\n",
       "      <td>11.45</td>\n",
       "      <td>13.7</td>\n",
       "      <td>3</td>\n",
       "      <td>3.70</td>\n",
       "      <td>1</td>\n",
       "      <td>0.0</td>\n",
       "    </tr>\n",
       "    <tr>\n",
       "      <th>2</th>\n",
       "      <td>137</td>\n",
       "      <td>0.0</td>\n",
       "      <td>0.0</td>\n",
       "      <td>0</td>\n",
       "      <td>243.4</td>\n",
       "      <td>114</td>\n",
       "      <td>41.38</td>\n",
       "      <td>121.2</td>\n",
       "      <td>110</td>\n",
       "      <td>10.300000</td>\n",
       "      <td>162.6</td>\n",
       "      <td>104</td>\n",
       "      <td>7.32</td>\n",
       "      <td>12.2</td>\n",
       "      <td>5</td>\n",
       "      <td>3.29</td>\n",
       "      <td>0</td>\n",
       "      <td>0.0</td>\n",
       "    </tr>\n",
       "    <tr>\n",
       "      <th>3</th>\n",
       "      <td>84</td>\n",
       "      <td>1.0</td>\n",
       "      <td>0.0</td>\n",
       "      <td>0</td>\n",
       "      <td>299.4</td>\n",
       "      <td>71</td>\n",
       "      <td>50.90</td>\n",
       "      <td>61.9</td>\n",
       "      <td>88</td>\n",
       "      <td>5.260000</td>\n",
       "      <td>196.9</td>\n",
       "      <td>89</td>\n",
       "      <td>8.86</td>\n",
       "      <td>6.6</td>\n",
       "      <td>7</td>\n",
       "      <td>1.78</td>\n",
       "      <td>2</td>\n",
       "      <td>0.0</td>\n",
       "    </tr>\n",
       "    <tr>\n",
       "      <th>4</th>\n",
       "      <td>75</td>\n",
       "      <td>1.0</td>\n",
       "      <td>0.0</td>\n",
       "      <td>0</td>\n",
       "      <td>166.7</td>\n",
       "      <td>113</td>\n",
       "      <td>28.34</td>\n",
       "      <td>148.3</td>\n",
       "      <td>122</td>\n",
       "      <td>12.610000</td>\n",
       "      <td>186.9</td>\n",
       "      <td>121</td>\n",
       "      <td>8.41</td>\n",
       "      <td>10.1</td>\n",
       "      <td>3</td>\n",
       "      <td>2.73</td>\n",
       "      <td>3</td>\n",
       "      <td>0.0</td>\n",
       "    </tr>\n",
       "  </tbody>\n",
       "</table>\n",
       "</div>"
      ],
      "text/plain": [
       "   account_length  intl_plan  voice_mail_plan  number_vmail_messages  \\\n",
       "0             128        0.0              1.0                     25   \n",
       "1             107        0.0              1.0                     26   \n",
       "2             137        0.0              0.0                      0   \n",
       "3              84        1.0              0.0                      0   \n",
       "4              75        1.0              0.0                      0   \n",
       "\n",
       "   total_day_minutes  total_day_calls  total_day_charge  total_eve_minutes  \\\n",
       "0              265.1              110             45.07              197.4   \n",
       "1              161.6              123             27.47              195.5   \n",
       "2              243.4              114             41.38              121.2   \n",
       "3              299.4               71             50.90               61.9   \n",
       "4              166.7              113             28.34              148.3   \n",
       "\n",
       "   total_eve_calls  total_eve_charge  total_night_minutes  total_night_calls  \\\n",
       "0               99         16.780000                244.7                 91   \n",
       "1              103         17.052324                254.4                103   \n",
       "2              110         10.300000                162.6                104   \n",
       "3               88          5.260000                196.9                 89   \n",
       "4              122         12.610000                186.9                121   \n",
       "\n",
       "   total_night_charge  total_intl_minutes  total_intl_calls  \\\n",
       "0               11.01                10.0                 3   \n",
       "1               11.45                13.7                 3   \n",
       "2                7.32                12.2                 5   \n",
       "3                8.86                 6.6                 7   \n",
       "4                8.41                10.1                 3   \n",
       "\n",
       "   total_intl_charge  number_customer_service_calls  churned  \n",
       "0               2.70                              1      0.0  \n",
       "1               3.70                              1      0.0  \n",
       "2               3.29                              0      0.0  \n",
       "3               1.78                              2      0.0  \n",
       "4               2.73                              3      0.0  "
      ]
     },
     "execution_count": 31,
     "metadata": {},
     "output_type": "execute_result"
    }
   ],
   "source": [
    "df.head()"
   ]
  },
  {
   "cell_type": "code",
   "execution_count": 36,
   "id": "2f22a0cc",
   "metadata": {},
   "outputs": [
    {
     "data": {
      "image/png": "[encoded data removed]",
      "text/plain": [
       "<Figure size 864x504 with 1 Axes>"
      ]
     },
     "metadata": {
      "needs_background": "light"
     },
     "output_type": "display_data"
    }
   ],
   "source": [
    "import matplotlib.ticker as mtick\n",
    "\n",
    "contract_churn = df.groupby(['intl_plan','churned']).size().unstack()\n",
    "\n",
    "contract_churn.rename(\n",
    "columns={0:'No', 1:'Yes'}, inplace=True)\n",
    "colors  = ['#ec838a','#9b9c9a']\n",
    "ax = (contract_churn.T*100.0 / contract_churn.T.sum()).T.plot(kind='bar',width = 0.3,stacked = True,rot = 0,figsize = (12,7),color = colors)\n",
    "plt.ylabel('Proportion of Customers\\n',\n",
    "horizontalalignment=\"center\",fontstyle = \"normal\", \n",
    "fontsize = \"large\", fontfamily = \"sans-serif\")\n",
    "plt.xlabel('Contract Plan\\n',horizontalalignment=\"center\",\n",
    "fontstyle = \"normal\", fontsize = \"large\", \n",
    "fontfamily = \"sans-serif\")\n",
    "plt.title('Churn Rate by Contract plan \\n',\n",
    "horizontalalignment=\"center\", fontstyle = \"normal\", \n",
    "fontsize = \"22\", fontfamily = \"sans-serif\")\n",
    "plt.legend(loc='right', fontsize = \"medium\")\n",
    "plt.xticks(rotation=0, horizontalalignment=\"center\")\n",
    "plt.yticks(rotation=0, horizontalalignment=\"right\")\n",
    "ax.yaxis.set_major_formatter(mtick.PercentFormatter())\n",
    "for p in ax.patches:\n",
    "    width, height = p.get_width(), p.get_height()\n",
    "    x, y = p.get_xy() \n",
    "    ax.text(x+width/2, \n",
    "            y+height/2, \n",
    "            '{:.1f}%'.format(height), \n",
    "            horizontalalignment='center', \n",
    "            verticalalignment='center')\n",
    "ax.autoscale(enable=False, axis='both', tight=False)"
   ]
  },
  {
   "cell_type": "markdown",
   "id": "af334308",
   "metadata": {},
   "source": [
    "The customers with Intl_plan (probably it means international contract plan) have the higher probability to churn compared to the customers without this plan."
   ]
  },
  {
   "cell_type": "markdown",
   "id": "227333f3",
   "metadata": {},
   "source": [
    "**Churn Rate by number of customer service call**"
   ]
  },
  {
   "cell_type": "code",
   "execution_count": 44,
   "id": "87c8b312",
   "metadata": {},
   "outputs": [
    {
     "data": {
      "image/png": "[encoded data removed]",
      "text/plain": [
       "<Figure size 864x504 with 1 Axes>"
      ]
     },
     "metadata": {
      "needs_background": "light"
     },
     "output_type": "display_data"
    }
   ],
   "source": [
    "import matplotlib.ticker as mtick\n",
    "\n",
    "number_customer_service_calls_churn = df.groupby(['number_customer_service_calls','churned']).size().unstack()\n",
    "\n",
    "number_customer_service_calls_churn.rename(\n",
    "columns={0:'No', 1:'Yes'}, inplace=True)\n",
    "colors  = ['#ec838a','#9b9c9a']\n",
    "ax = (number_customer_service_calls_churn.T*100.0 / number_customer_service_calls_churn.T.sum()).T.plot(kind='bar',width = 0.3,stacked = True,rot = 0,figsize = (12,7),color = colors)\n",
    "plt.ylabel('Proportion of Customers\\n',\n",
    "horizontalalignment=\"center\",fontstyle = \"normal\", \n",
    "fontsize = \"large\", fontfamily = \"sans-serif\")\n",
    "plt.xlabel('number_customer_service_calls\\n',horizontalalignment=\"center\",\n",
    "fontstyle = \"normal\", fontsize = \"large\", \n",
    "fontfamily = \"sans-serif\")\n",
    "plt.title('Churn Rate by number_customer_service_calls\\n',\n",
    "horizontalalignment=\"center\", fontstyle = \"normal\", \n",
    "fontsize = \"22\", fontfamily = \"sans-serif\")\n",
    "plt.legend(loc='right', fontsize = \"medium\")\n",
    "plt.xticks(rotation=0, horizontalalignment=\"center\")\n",
    "plt.yticks(rotation=0, horizontalalignment=\"right\")\n",
    "ax.yaxis.set_major_formatter(mtick.PercentFormatter())\n",
    "for p in ax.patches:\n",
    "    width, height = p.get_width(), p.get_height()\n",
    "    x, y = p.get_xy() \n",
    "    ax.text(x+width/2, \n",
    "            y+height/2, \n",
    "            '{:.1f}%'.format(height), \n",
    "            horizontalalignment='center', \n",
    "            verticalalignment='center')\n",
    "ax.autoscale(enable=False, axis='both', tight=False)"
   ]
  },
  {
   "cell_type": "markdown",
   "id": "78b298cb",
   "metadata": {},
   "source": [
    "If the number of customer care calls is between 0-3, the probability to churn is the same between 10-12%, very low.\n",
    "If the number of customer care calls is between 4-8, the probability for the customer to churn is 35,3-56%.\n",
    "If the number of customer care calls is 9 (or more, I guess), the probability for the customer to churn is very hight "
   ]
  },
  {
   "cell_type": "markdown",
   "id": "eb17a6f6",
   "metadata": {},
   "source": [
    "https://github.com/haciduru/Predicting-customer-churn/blob/83c9d8211272d3da6bc75c03ce28945b91a271c3/Predicting%20customer%20churn.ipynb"
   ]
  },
  {
   "cell_type": "markdown",
   "id": "fb9e0ddf",
   "metadata": {},
   "source": [
    "**Churn Rate by account_length**"
   ]
  },
  {
   "cell_type": "code",
   "execution_count": 53,
   "id": "8386a7c1",
   "metadata": {},
   "outputs": [
    {
     "data": {
      "image/png": "[encoded data removed]",
      "text/plain": [
       "<Figure size 864x504 with 1 Axes>"
      ]
     },
     "metadata": {
      "needs_background": "light"
     },
     "output_type": "display_data"
    }
   ],
   "source": [
    "import matplotlib.ticker as mtick\n",
    "\n",
    "voice_mail_plan_churn = df.groupby(['voice_mail_plan','churned']).size().unstack()\n",
    "\n",
    "voice_mail_plan_churn.rename(\n",
    "columns={0:'No', 1:'Yes'}, inplace=True)\n",
    "colors  = ['#ec838a','#9b9c9a']\n",
    "ax = (voice_mail_plan_churn.T*100.0 / voice_mail_plan_churn.T.sum()).T.plot(kind='bar',width = 0.3,stacked = True,rot = 0,figsize = (12,7),color = colors)\n",
    "plt.ylabel('Propotion of customers\\n',\n",
    "horizontalalignment=\"center\",fontstyle = \"normal\", \n",
    "fontsize = \"large\", fontfamily = \"sans-serif\")\n",
    "plt.xlabel('voice_mail_plan\\n',horizontalalignment=\"center\",\n",
    "fontstyle = \"normal\", fontsize = \"large\", \n",
    "fontfamily = \"sans-serif\")\n",
    "plt.title('Churn Rate voice_mail_plan\\n',\n",
    "horizontalalignment=\"center\", fontstyle = \"normal\", \n",
    "fontsize = \"22\", fontfamily = \"sans-serif\")\n",
    "plt.legend(loc='right', fontsize = \"medium\")\n",
    "plt.xticks(rotation=0, horizontalalignment=\"center\")\n",
    "plt.yticks(rotation=0, horizontalalignment=\"right\")\n",
    "ax.yaxis.set_major_formatter(mtick.PercentFormatter())\n",
    "for p in ax.patches:\n",
    "    width, height = p.get_width(), p.get_height()\n",
    "    x, y = p.get_xy() \n",
    "    ax.text(x+width/2, \n",
    "            y+height/2, \n",
    "            '{:.1f}%'.format(height), \n",
    "            horizontalalignment='center', \n",
    "            verticalalignment='center')\n",
    "ax.autoscale(enable=False, axis='both', tight=False)"
   ]
  },
  {
   "cell_type": "markdown",
   "id": "a57268fb",
   "metadata": {},
   "source": [
    "The customers with voice mail plan has 16,5% probability to churn.\n",
    "The customers without voice mail plan has only 7,7% probability to churn"
   ]
  }
 ],
 "metadata": {
  "kernelspec": {
   "display_name": "Python 3 (ipykernel)",
   "language": "python",
   "name": "python3"
  },
  "language_info": {
   "codemirror_mode": {
    "name": "ipython",
    "version": 3
   },
   "file_extension": ".py",
   "mimetype": "text/x-python",
   "name": "python",
   "nbconvert_exporter": "python",
   "pygments_lexer": "ipython3",
   "version": "3.9.7"
  },
  "toc": {
   "base_numbering": 1,
   "nav_menu": {},
   "number_sections": true,
   "sideBar": true,
   "skip_h1_title": false,
   "title_cell": "Table of Contents",
   "title_sidebar": "Contents",
   "toc_cell": false,
   "toc_position": {},
   "toc_section_display": true,
   "toc_window_display": false
  }
 },
 "nbformat": 4,
 "nbformat_minor": 5
}
